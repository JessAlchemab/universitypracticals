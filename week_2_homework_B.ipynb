{
  "nbformat": 4,
  "nbformat_minor": 2,
  "metadata": {
    "kernelspec": {
      "name": "python3",
      "display_name": "Python 3.8.10 64-bit ('base': conda)"
    },
    "language_info": {
      "codemirror_mode": {
        "name": "ipython",
        "version": 3
      },
      "file_extension": ".py",
      "mimetype": "text/x-python",
      "name": "python",
      "nbconvert_exporter": "python",
      "pygments_lexer": "ipython3",
      "version": "3.8.10"
    },
    "colab": {
      "name": "homework_B.ipynb",
      "provenance": []
    },
    "interpreter": {
      "hash": "f85c0ae1067a86ad6a96b144378883e79fd1516474b579ba33ee3a7084540002"
    }
  },
  "cells": [
    {
      "cell_type": "markdown",
      "source": [
        "# homework B: handling sequences in Python\n",
        "\n",
        "Make sure you have worked through the workbook_B first.\n",
        "\n",
        "## B1 Complementing DNA\n",
        "\n",
        "In the workbook we saw how double stranded DNA has two complementary strands<img src=\"https://upload.wikimedia.org/wikipedia/commons/e/e4/DNA_chemical_structure.svg\" \n",
        "align=\"left\" width=300> \n",
        "```\n",
        "\n",
        "\n",
        "\n",
        "```\n",
        "**Chemical Diagram of DNA**:  Showing two complimentary strands of 4 base pairs.\n",
        "[Image from Wikimedia Commons](https://commons.wikimedia.org/wiki/File:DNA_chemical_structure.svg) by Madeleine Price Ball, Licensed under [Creative Commons](https://en.wikipedia.org/wiki/en:Creative_Commons) [Attribution-Share Alike 3.0 Unported](https://creativecommons.org/licenses/by-sa/3.0/deed.en) license."
      ],
      "metadata": {
        "id": "XMbb-3nkuB_f"
      }
    },
    {
      "cell_type": "markdown",
      "source": [
        "The DNA sequence of the left hand strand is: ACTG. The complementary strand is found by replacing A with T, C with G, G with C and T with A:\n",
        "```\n",
        "left hand strand:     ACTG\n",
        "complementary strand: TGAC\n",
        "```\n",
        "Note that the complementary strand is listed from the 3' to the 5' end."
      ],
      "metadata": {
        "collapsed": true,
        "id": "Q3mBVFQ9uB_k"
      }
    },
    {
      "cell_type": "code",
      "execution_count": 18,
      "source": [
        "# Instruction: write python code using to find the complementary \n",
        "# strand of dna from the dna variable and store it as complement. \n",
        "dna = 'ATGC'\n",
        "complement = []  # start with the dna sequence\n",
        "# add python code here to work out the correct complement\n",
        "for i in dna:\n",
        "    if i == \"A\":\n",
        "        complement.append(\"T\")\n",
        "    elif i == \"T\":\n",
        "        complement.append(\"A\")\n",
        "    elif i == \"G\":\n",
        "        complement.append(\"C\")\n",
        "    elif i == \"C\":\n",
        "        complement.append(\"G\")\n",
        "complement = \"\".join(complement)\n",
        "print(complement)\n",
        "# next line checks answer!\n"
      ],
      "outputs": [
        {
          "output_type": "stream",
          "name": "stdout",
          "text": [
            "TACG\n"
          ]
        }
      ],
      "metadata": {
        "id": "ugOfxIHOuB_l"
      }
    },
    {
      "cell_type": "markdown",
      "source": [
        "Now check you code works by considering the first part of the DNA sequence shown below:\n",
        "<img src=\"https://github.com/ARU-Bioinf-IBDS/prac-B/blob/master/images/Diagram_showing_a_double_helix_of_a_chromosome_CRUK_065_with_ends_marked.svg?raw=1\" width=200/>\n",
        "```\n",
        "\n",
        "\n",
        "```\n",
        "**The DNA double helix**.  [Wikimedia Commons SVG diagram](https://commons.wikimedia.org/wiki/File:Diagram_showing_a_double_helix_of_a_chromosome_CRUK_065.svg) by Cancer Research UK, Licensed under [Creative Commons](https://en.wikipedia.org/wiki/en:Creative_Commons) [Attribution-Share Alike 4.0 International](https://creativecommons.org/licenses/by-sa/4.0/deed.en) license."
      ],
      "metadata": {
        "id": "sjx82PymuB_n"
      }
    },
    {
      "cell_type": "code",
      "execution_count": 23,
      "source": [
        "dna = 'AGTCGAC'\n",
        "# Instruction: \n",
        "complement_by_hand = \"TCAGCTG\"\n",
        "complement = []\n",
        "# Instruction: copy your python code for the complement here\n",
        "for i in dna:\n",
        "    if i == \"A\":\n",
        "        complement.append(\"T\")\n",
        "    elif i == \"T\":\n",
        "        complement.append(\"A\")\n",
        "    elif i == \"G\":\n",
        "        complement.append(\"C\")\n",
        "    elif i == \"C\":\n",
        "        complement.append(\"G\")\n",
        "complement = \"\".join(complement)\n",
        "print(complement)\n"
      ],
      "outputs": [
        {
          "output_type": "stream",
          "name": "stdout",
          "text": [
            "TCAGCTG\n"
          ]
        }
      ],
      "metadata": {
        "collapsed": true,
        "id": "5CakHwvJuB_o"
      }
    },
    {
      "cell_type": "markdown",
      "source": [
        "Now lets get fancy and print out the DNA strand and its complement showing it is complementary:\n",
        "\n",
        "For `dna = 'AGTCGAC'` we want a print out\n",
        "```\n",
        "5'-AGTCGAC-3'\n",
        "3'-TCAGCTA-5'\n",
        "```"
      ],
      "metadata": {
        "id": "8PGpzXZxuB_o"
      }
    },
    {
      "cell_type": "code",
      "execution_count": 28,
      "source": [
        "dna = 'AAACCCGGGTTT'\n",
        "# Instruction: your code for complement\n",
        "complement = []\n",
        "for i in dna:\n",
        "    if i == \"A\":\n",
        "        complement.append(\"T\")\n",
        "    elif i == \"T\":\n",
        "        complement.append(\"A\")\n",
        "    elif i == \"G\":\n",
        "        complement.append(\"C\")\n",
        "    elif i == \"C\":\n",
        "        complement.append(\"G\")\n",
        "complement = \"\".join(complement)\n",
        "# Instruction: your code for the fancy print out\n",
        "print(\"5'-\" + dna + \"-3'\")\n",
        "print(\"3'-\" + complement + \"-5'\")"
      ],
      "outputs": [
        {
          "output_type": "stream",
          "name": "stdout",
          "text": [
            "5'-AAACCCGGGTTT-3'\n",
            "3'-TTTGGGCCCAAA-5'\n"
          ]
        }
      ],
      "metadata": {
        "collapsed": true,
        "id": "WNkzViOPuB_p"
      }
    },
    {
      "cell_type": "markdown",
      "source": [
        "Now lets get even fancier and add vertical bars to show the complementarity in the printout\n",
        "```\n",
        "5'-AGTCGAC-3'\n",
        "   |||||||\n",
        "3'-TCAGCTA-5'\n",
        "```"
      ],
      "metadata": {
        "id": "uBiguS1JuB_q"
      }
    },
    {
      "cell_type": "code",
      "execution_count": 30,
      "source": [
        "dna = 'A'*5 + 'G'*5 + 'C'*10 + 'T'*7\n",
        "\n",
        "# Instruction: your code for the even fancier print out\n",
        "complement = []\n",
        "for i in dna:\n",
        "    if i == \"A\":\n",
        "        complement.append(\"T\")\n",
        "    elif i == \"T\":\n",
        "        complement.append(\"A\")\n",
        "    elif i == \"G\":\n",
        "        complement.append(\"C\")\n",
        "    elif i == \"C\":\n",
        "        complement.append(\"G\")\n",
        "complement = \"\".join(complement)\n",
        "print(\"5'-\" + dna + \"-3'\")\n",
        "print(\"   \" + (\"|\" * len(dna)) + \"  \")\n",
        "print(\"3'-\" + complement + \"-5'\") "
      ],
      "outputs": [
        {
          "output_type": "stream",
          "name": "stdout",
          "text": [
            "5'-AAAAAGGGGGCCCCCCCCCCTTTTTTT-3'\n",
            "   |||||||||||||||||||||||||||  \n",
            "3'-TTTTTCCCCCGGGGGGGGGGAAAAAAA-5'\n"
          ]
        }
      ],
      "metadata": {
        "collapsed": true,
        "id": "DyclohS9uB_q"
      }
    },
    {
      "cell_type": "markdown",
      "source": [
        "> Note we have not yet learnt how to reverse a string - this is coming next week in practical C.\n",
        "> Then you will be able to work out the reverse complement:\n",
        ">\n",
        "> `5'-ATCGACT-3'`\n",
        ">\n",
        "> Note that DNA sequences are always described 5' to 3' never the other way around!"
      ],
      "metadata": {
        "id": "ivO3k9cUuB_r"
      }
    },
    {
      "cell_type": "markdown",
      "source": [
        "## B2 Working out percentage base composition\n",
        "\n",
        "Write Python code to print out the percentage A, C, G and T in the sequence:\n",
        "\n",
        "`AAATTGCCCC`\n",
        "\n",
        "your code should print out a line\n",
        "\n",
        "`DNA sequence AATTGC has 30.0% A, 40.0% C, 20% G, 10.0% T.`"
      ],
      "metadata": {
        "id": "QB91SW0AuB_r"
      }
    },
    {
      "cell_type": "code",
      "execution_count": 9,
      "source": [
        "dna = 'AAATTGCCCC'\n",
        "#New code\n",
        "T_perc = (dna.count(\"T\") / len(dna)) * 100\n",
        "C_perc = (dna.count(\"C\") / len(dna)) * 100\n",
        "A_perc = (dna.count(\"A\") / len(dna)) * 100\n",
        "G_perc = (dna.count(\"G\") / len(dna)) * 100\n",
        "print(\"DNA sequence AATTGC has {:.1f}\".format(A_perc) + \"% A, {:.1f}\".format(C_perc) + \"% C, {:.1f}\".format(G_perc) + \"% G, {:.1f}\".format(T_perc) + \"% T.\") "
      ],
      "outputs": [
        {
          "output_type": "stream",
          "name": "stdout",
          "text": [
            "DNA sequence AATTGC has 30.0% A, 40.0% C, 10.0% G, 20.0% T.\n"
          ]
        }
      ],
      "metadata": {
        "collapsed": true,
        "id": "zWB1WValuB_s"
      }
    },
    {
      "cell_type": "markdown",
      "source": [
        "Now print out the base composition of sequence dna2 (rounding figures to one decimal place):"
      ],
      "metadata": {
        "id": "c3_XsuZVuB_s"
      }
    },
    {
      "cell_type": "code",
      "execution_count": 8,
      "source": [
        "dna2 = 10*'A' + 'G' + 4*'C'\n",
        "#New code\n",
        "T_perc = (dna2.count(\"T\") / len(dna2)) * 100\n",
        "C_perc = (dna2.count(\"C\") / len(dna2)) * 100\n",
        "A_perc = (dna2.count(\"A\") / len(dna2)) * 100\n",
        "G_perc = (dna2.count(\"G\") / len(dna2)) * 100\n",
        "print(\"DNA sequence AATTGC has {:.1f}\".format(A_perc) + \"% A, {:.1f}\".format(C_perc) + \"% C, {:.1f}\".format(G_perc) + \"% G, {:.1f}\".format(T_perc) + \"% T.\") "
      ],
      "outputs": [
        {
          "output_type": "stream",
          "name": "stdout",
          "text": [
            "DNA sequence AATTGC has 66.7% A, 26.7% C, 6.7% G, 0.0% T.\n"
          ]
        }
      ],
      "metadata": {
        "collapsed": true,
        "id": "ZwmjZy4auB_s"
      }
    },
    {
      "cell_type": "markdown",
      "source": [
        "> ### Reminder: saving your work\n",
        ">\n",
        "> As you work through the work book it is important to regularly save your work. Notice that as you have made  changes the Jupyter window top line will warn you there are `(unsaved changes)` in small text. To save your work in this notebook by either select menu item `File` `Save` or by hit the save button:\n",
        "> \n",
        "> <img src=\"https://github.com/ARU-Bioinf-IBDS/prac-B/blob/master/images/save_button.png?raw=1\"/>\n",
        ">\n",
        "> \n",
        "> ### Reminder: getting help \n",
        "> Please see the page:\n",
        "> [Help with programming](https://canvas.anglia.ac.uk/courses/12178/pages/help-with-programming)\n",
        "> on ARU Canvas."
      ],
      "metadata": {
        "id": "cXNnwBNPuB_t"
      }
    },
    {
      "cell_type": "markdown",
      "source": [
        "## Once you have completed this homework, \n",
        "Please see ARU Canvas page\n",
        "[Reflection on Practical B](https://canvas.anglia.ac.uk/courses/12178/discussion_topics/106245)\n",
        "for the follow up."
      ],
      "metadata": {
        "id": "W70yHp5muB_t"
      }
    },
    {
      "cell_type": "code",
      "execution_count": null,
      "source": [],
      "outputs": [],
      "metadata": {
        "collapsed": true,
        "id": "_DJSqQ_ouB_t"
      }
    }
  ]
}