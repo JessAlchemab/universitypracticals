{
  "cells": [
    {
      "cell_type": "markdown",
      "metadata": {
        "id": "NTE942YSY0ZT"
      },
      "source": [
        "# homework E: Writing your own functions\n",
        "\n",
        "Make sure you have worked through **workbook_E.ipynb** before tackling this homework."
      ]
    },
    {
      "cell_type": "markdown",
      "metadata": {
        "id": "HWrT4W7BY0ZX"
      },
      "source": [
        "> ### Reminder: saving your work\n",
        ">\n",
        "> As you work through the work book it is important to regularly save your work. Notice that as you have made  changes the Jupyter window top line will warn you there are `(unsaved changes)` in small text. To save your work in this notebook by either select menu item `File` `Save` or by hit the save button:\n",
        "> \n",
        "> ![Jupyter Notebook Save Button|](https://aru-bioinf-ibds.github.io./images/save_button.png)\n",
        ">\n",
        "> \n",
        "> ### Reminder: getting help \n",
        "> Please see the page:\n",
        "> [Help with programming](https://canvas.anglia.ac.uk/courses/12178/pages/help-with-programming)\n",
        "> on ARU Canvas."
      ]
    },
    {
      "cell_type": "markdown",
      "metadata": {
        "id": "xq2kvBK8Y0ZY"
      },
      "source": [
        "## Function for finding the percentage GC content in a DNA sequence\n",
        "As we have already seen in workbook A, DNAs with higher proportion of GC base pairs compared to AT have a higher melting temperature and parts of the genome with a higher GC content tend to code for proteins, see https://en.wikipedia.org/wiki/GC-content. \n",
        "\n",
        "Use the len() function and .count() method to find out the percentage GC content:\n",
        "\n",
        "$$\n",
        "percent_{GC} = 100*\\frac{N_G + N_C}{N_{total}}\n",
        "$$\n",
        "\n",
        "where $N_G$ is the number of G's in the sequence, $N_C$ is the number of C's in the sequence and $N_{total}$ is the total length of the sequence."
      ]
    },
    {
      "cell_type": "markdown",
      "metadata": {
        "id": "1-EUZWutY0ZZ"
      },
      "source": [
        "**Now it is your turn!**\n",
        "\n",
        "Write a function that returns the percentage G and C bases in a DNA given sequence.\n",
        "\n",
        "* First think what would be a good name for the function. The Python convention is\n",
        "  that function names are lower case with words separated by underscores - so lets call\n",
        "  it `percentage_gc`\n",
        "* What arguments should `percentage_gc` have?\n",
        "* What will `percentage_gc` return."
      ]
    },
    {
      "cell_type": "code",
      "execution_count": 2,
      "metadata": {
        "id": "d8YULi69Y0ZZ"
      },
      "outputs": [],
      "source": [
        "# Instruction: write a function thats returns the number of G and C bases in a given sequence.\n",
        "def percent_gc(inputseq):   ### replace the ____\n",
        "\n",
        "    \"\"\"This function returns a percentage of a sequence that is G and C (hopefully)\"\"\"\n",
        "    gc_count = 0\n",
        "\n",
        "    for letter in inputseq:\n",
        "        if letter in \"GgCc\":\n",
        "            gc_count += 1\n",
        "\n",
        "    gc_perc = 100 * (gc_count / len(inputseq))\n",
        "    return gc_perc ### replace the ____\n"
      ]
    },
    {
      "cell_type": "markdown",
      "metadata": {
        "id": "FRioLHurY0Zb"
      },
      "source": [
        "Now lets first review the help message for the function:"
      ]
    },
    {
      "cell_type": "code",
      "execution_count": 3,
      "metadata": {
        "id": "OMX7zVh6Y0Zc"
      },
      "outputs": [
        {
          "name": "stdout",
          "output_type": "stream",
          "text": [
            "Help on function percent_gc in module __main__:\n",
            "\n",
            "percent_gc(inputseq)\n",
            "    This function returns a percentage of a sequence that is G and C (hopefully)\n",
            "\n"
          ]
        }
      ],
      "source": [
        "# Instruction: run this cell to see the help message for the function:\n",
        "help(percent_gc)"
      ]
    },
    {
      "cell_type": "markdown",
      "metadata": {
        "id": "wKusYh-MY0Zd"
      },
      "source": [
        "**Question:** is the help message understandable without reading the function?\n",
        "If not revise the docstring in you percentage_gc function above."
      ]
    },
    {
      "cell_type": "markdown",
      "metadata": {
        "id": "SujStZcBY0Zd"
      },
      "source": [
        "Now we need to test the `percent_gc` function works\n",
        "\n",
        "First complete this table \n",
        "\n",
        "> you will need to edit this Markdown cell to do this double click on this cell \n",
        "> and then replace the ? in the table below. When you have finished run the cell\n",
        "> with the run button above (and save your work).\n",
        "\n",
        "| **test sequence** | **Percentage GC content** |\n",
        "| ----------------- | :-----------------------: |\n",
        "| G                 |   100%   |\n",
        "| AC                |   50%    |   \n",
        "| CAT               |   33.333%|\n",
        "| C                 |   100%   |\n",
        "| A                 |   0%     |\n",
        "| AAA               |   0%     |\n",
        "| GGG               |   100%   |\n",
        "| GAC               |   66.667%|\n",
        "| GGGAAACCCTTT      |   50%    |\n",
        "\n",
        "A good way to store this data is as a list of tuples, where each tuple is (a test sequence, manually calculated %GC content):"
      ]
    },
    {
      "cell_type": "code",
      "execution_count": 4,
      "metadata": {
        "id": "3t-b4BBzY0Ze"
      },
      "outputs": [
        {
          "name": "stdout",
          "output_type": "stream",
          "text": [
            "test sequence G\n",
            "  expect%:100.0\n",
            "actual%: 100.0\n",
            "PASS\n",
            "test sequence AC\n",
            "  expect%:50.0\n",
            "actual%: 50.0\n",
            "PASS\n",
            "test sequence CAT\n",
            "  expect%:33.33333\n",
            "actual%: 33.33333333333333\n",
            "PASS\n",
            "test sequence C\n",
            "  expect%:100\n",
            "actual%: 100.0\n",
            "PASS\n",
            "test sequence A\n",
            "  expect%:0\n",
            "actual%: 0.0\n",
            "PASS\n",
            "test sequence AAA\n",
            "  expect%:0\n",
            "actual%: 0.0\n",
            "PASS\n",
            "test sequence GGG\n",
            "  expect%:100\n",
            "actual%: 100.0\n",
            "PASS\n",
            "test sequence GAC\n",
            "  expect%:66.66667\n",
            "actual%: 66.66666666666666\n",
            "PASS\n",
            "test sequence GGGAAACCCTTT\n",
            "  expect%:50\n",
            "actual%: 50.0\n",
            "PASS\n"
          ]
        }
      ],
      "source": [
        "# Idea: complete this test the percentage_gc function with \n",
        "#       the data from the completed table above.\n",
        "test_seq_percent_gc = [('G', 100.),\n",
        "                       ('AC', 50.),\n",
        "                       ('CAT', 33.33333),\n",
        "                       ('C', 100),\n",
        "                       ('A', 0),\n",
        "                       ('AAA', 0),\n",
        "                       ('GGG', 100),\n",
        "                       ('GAC', 66.66667),\n",
        "                       ('GGGAAACCCTTT', 50)\n",
        "                      ]\n",
        "for test_seq, expect_percent in test_seq_percent_gc:\n",
        "    print('test sequence ' + test_seq)\n",
        "    print('  expect%:' + str(expect_percent))\n",
        "\n",
        "    actual_percent = percent_gc(test_seq)\n",
        "    \n",
        "    print('actual%: ' + str(actual_percent))\n",
        "\n",
        "    if round(actual_percent, 3) == round(expect_percent, 3):\n",
        "        print(\"PASS\")\n",
        "    else:\n",
        "        print(\"FAIL\")\n",
        "   \n",
        "    \n",
        "\n",
        "    # Instruction: now compare expect_percent and actual_percent agree to 3 decimal places.\n",
        "\n",
        "    #              If they agree print 'PASS' otherwise print 'FAIL'\n",
        "    #               see Hint in next cell for comparing floating numbers\n",
        "    ### add lines to do comparison."
      ]
    },
    {
      "cell_type": "markdown",
      "metadata": {
        "id": "Q4rAvyBmY0Zg"
      },
      "source": [
        "**Hint** Comparing floating numbers are exactly equal can lead to problems because of limited precision in numerical calculations. There are many ways to get around the problem (see https://stackoverflow.com/questions/5595425/what-is-the-best-way-to-compare-floats-for-almost-equality-in-python).\n",
        "\n",
        "A reasonable approach here is to use the round function to compare the numbers to 3 decimal places:"
      ]
    },
    {
      "cell_type": "code",
      "execution_count": 5,
      "metadata": {
        "id": "C16gimAmY0Zg"
      },
      "outputs": [
        {
          "name": "stdout",
          "output_type": "stream",
          "text": [
            "Help on built-in function round in module builtins:\n",
            "\n",
            "round(number, ndigits=None)\n",
            "    Round a number to a given precision in decimal digits.\n",
            "    \n",
            "    The return value is an integer if ndigits is omitted or None.  Otherwise\n",
            "    the return value has the same type as the number.  ndigits may be negative.\n",
            "\n"
          ]
        }
      ],
      "source": [
        "# Instruction run this cell to see help on the round function\n",
        "help(round)"
      ]
    },
    {
      "cell_type": "code",
      "execution_count": 6,
      "metadata": {
        "id": "1obRcVCrY0Zh"
      },
      "outputs": [
        {
          "name": "stdout",
          "output_type": "stream",
          "text": [
            "b_num rounded to 2 d.p. 6.0\n",
            "the two numbers agree to 2 decimal places\n"
          ]
        }
      ],
      "source": [
        "# instruction run this example to see how round can be used to compare numbers\n",
        "a_num = 6.0\n",
        "b_num = 5.999\n",
        "print('b_num rounded to 2 d.p. ' + str(round(b_num, ndigits=2)))\n",
        "if round(a_num, ndigits=2) == round(b_num, ndigits=2):\n",
        "    print('the two numbers agree to 2 decimal places')\n",
        "else:\n",
        "    print('the two numbers do not agree to 2 d.p.')"
      ]
    },
    {
      "cell_type": "markdown",
      "metadata": {
        "collapsed": true,
        "id": "qcLYq2ZnY0Zh"
      },
      "source": [
        "## Predicting the melting temperature of short DNA sequences\n",
        "\n",
        "The GC content of DNA is an important property. Although DNA forms double helical structures it is\n",
        "often necessary in both biology and biotechnology to separate the two strands. One way of seperating the strands is to warm up the DNA solution so that the DNA double helix 'melts' into separate strands. \n",
        "See video: https://www.youtube.com/watch?v=OblPqlOOgew for further background. If the temperature is reduced the\n",
        "DNA will 'anneal' back to the double stranded form.\n",
        "\n",
        "DNA melting and annealing are crucial for [polymerase chain reaction (PCR)](https://www.nature.com/scitable/definition/polymerase-chain-reaction-pcr-110).\n",
        "PCR is a widely used molecular biology technique to reproduce (amplify) selected \n",
        "sections of DNA. Knowing the DNA melting temperature for given DNA sequences is\n",
        "important for PCR.\n",
        "\n",
        "For short DNA sequences it is possible to predict the DNA melting temperature (the temperature at which 50% of the DNA is double-helical and 50% is in single strands) from its sequence (from http://biotools.nubic.northwestern.edu/OligoCalc.html). For sequences less than 14 bases the:\n",
        "\n",
        "$$\n",
        "T_m = 2(N_A + N_T) + 4(N_G + N_C)\n",
        "$$\n",
        "\n",
        "where:\n",
        "* $T_m$ is the 'basic' melting temperature in $^{\\circ}C$\n",
        "* $N_A$ is the number of A's in the sequence\n",
        "* $N_T$ is the number of T's in the sequence\n",
        "* $N_G$ is the number of G's in the sequence\n",
        "* $N_C$ is the number of C's in the sequence\n",
        "\n",
        "This formula is from http://biotools.nubic.northwestern.edu/OligoCalc.html who cite Marmur,J., and Doty,P. (1962) *J Mol Biol* **5**:109-118 https://doi.org/10.1016/S0022-2836(62)80066-7\n",
        "\n",
        "You can see that as we would expect sequences of the same length with a higher GC content have a higher predicted melting temperature.\n",
        "\n",
        "Write a function basic_tm to calculate the basic melting temperature according to the equation."
      ]
    },
    {
      "cell_type": "code",
      "execution_count": 7,
      "metadata": {
        "id": "ctTmO5CPY0Zi"
      },
      "outputs": [],
      "source": [
        "# Instruction write a basic_tm function\n",
        "def basic_tm(sequence):\n",
        "    \"\"\"This function accepts a string that contains a short (<14 bases) DNA sequence (As, Ts, Gs, and Cs only)\n",
        "    and returns its melting temperature in degrees C. \n",
        "    \n",
        "    The formula used can be found at http://biotools.nubic.northwestern.edu/OligoCalc.html who cite \n",
        "    Marmur,J., and Doty,P. (1962) *J Mol Biol* **5**:109-118 https://doi.org/10.1016/S0022-2836(62)80066-7\n",
        "    \"\"\"\n",
        "    tm = 0 \n",
        "    atcount = 0\n",
        "    gccount = 0\n",
        "    if len(sequence) >= 14:\n",
        "        raise ValueError(\"The string is too long - the output may not be accurate\")\n",
        "\n",
        "    for letter in sequence:\n",
        "\n",
        "        if letter in \"AaTt\":\n",
        "            atcount += 1\n",
        "\n",
        "        elif letter in \"GgCc\":\n",
        "            gccount += 1\n",
        "\n",
        "        elif letter in \"Uu\":\n",
        "            raise ValueError(\"Whoops! Looks like that might have uracil in there, or you've just written a word with a U in. Either way, try a different sequence with only A, T, G, and C\")\n",
        "        \n",
        "        else:\n",
        "            raise ValueError(\"Doesn't look like that's a valid string of DNA. Try inputting a sequence that contains only As, Ts, Gs and Cs!\")\n",
        "    tm = (2 * atcount) + (4 * gccount)\n",
        "    return tm "
      ]
    },
    {
      "cell_type": "markdown",
      "metadata": {
        "id": "3UUjzl6nY0Zi"
      },
      "source": [
        "Now lets review the help message:"
      ]
    },
    {
      "cell_type": "code",
      "execution_count": 8,
      "metadata": {
        "id": "lIjrmnZBY0Zi"
      },
      "outputs": [
        {
          "name": "stdout",
          "output_type": "stream",
          "text": [
            "Help on function basic_tm in module __main__:\n",
            "\n",
            "basic_tm(sequence)\n",
            "    This function accepts a string that contains a short (<14 bases) DNA sequence (As, Ts, Gs, and Cs only)\n",
            "    and returns its melting temperature in degrees C. \n",
            "    \n",
            "    The formula used can be found at http://biotools.nubic.northwestern.edu/OligoCalc.html who cite \n",
            "    Marmur,J., and Doty,P. (1962) *J Mol Biol* **5**:109-118 https://doi.org/10.1016/S0022-2836(62)80066-7\n",
            "\n"
          ]
        }
      ],
      "source": [
        "# Instruction: run this cell to see the help message for basic_tm:\n",
        "help(basic_tm)"
      ]
    },
    {
      "cell_type": "markdown",
      "metadata": {
        "id": "cdvEsh-zY0Zi"
      },
      "source": [
        "**Questions:** \n",
        "* Is the help message understandable? \n",
        "* Could you use the function without reading its code?\n",
        "* Have you credited where the formula came from. \n",
        "  It is really important as a scientist to correctly cite\n",
        "  others work. \n",
        "  \n",
        "If not revise the docstring in the basic_tm above."
      ]
    },
    {
      "cell_type": "markdown",
      "metadata": {
        "id": "_9x6md_8Y0Zj"
      },
      "source": [
        "#### Testing the function:\n",
        "\n",
        "Does your function work as it should. We need some data to test.\n",
        "    \n",
        "Complete the following table by running the basic tm calculation for \n",
        "each sequence at http://biotools.nubic.northwestern.edu/OligoCalc.html \n",
        "\n",
        "| **test sequence**   | **Basic Tm (degrees C) from OligoCalc** |\n",
        "| -----------------   | :-------------------------------------: |\n",
        "| G                   |  4    |\n",
        "| GG                  |  8    |   \n",
        "| A                   |  2    |\n",
        "| GA                  |  6    |\n",
        "| TTTTCCCC            |  24   |\n",
        "| AAGGGCTCTATAA       |  36   |\n",
        "| AAAAAAAAAA    |  20  |\n",
        "\n",
        "The formula applies for sequences less than 14 bases. So when choosing sequences\n",
        "it would be a good idea to include two or three sequences that are 13 bases long\n",
        "with different (high, low, medium) percentage GC."
      ]
    },
    {
      "cell_type": "code",
      "execution_count": 31,
      "metadata": {
        "id": "EvWZXXdpY0Zj"
      },
      "outputs": [],
      "source": [
        "# create a test data list tuples pairs like we did above \n",
        "test_sequences = [(\"G\", 4),\n",
        "                    (\"GG\", 8),\n",
        "                    (\"A\", 2),\n",
        "                    (\"GA\", 6),\n",
        "                    (\"TTTTCCCC\", 24),\n",
        "                    (\"AAAAAAAAAA\", 20),\n",
        "                    (\"AAGGGCTCTATAA\", 36)]"
      ]
    },
    {
      "cell_type": "code",
      "execution_count": 32,
      "metadata": {
        "id": "BbRtaM_RY0Zj"
      },
      "outputs": [
        {
          "name": "stdout",
          "output_type": "stream",
          "text": [
            "The test sequence is G\n",
            "The expected value is 4\n",
            "The found calculated value is 4\n",
            "SUCCESS\n",
            "The test sequence is GG\n",
            "The expected value is 8\n",
            "The found calculated value is 8\n",
            "SUCCESS\n",
            "The test sequence is A\n",
            "The expected value is 2\n",
            "The found calculated value is 2\n",
            "SUCCESS\n",
            "The test sequence is GA\n",
            "The expected value is 6\n",
            "The found calculated value is 6\n",
            "SUCCESS\n",
            "The test sequence is TTTTCCCC\n",
            "The expected value is 24\n",
            "The found calculated value is 24\n",
            "SUCCESS\n",
            "The test sequence is AAAAAAAAAA\n",
            "The expected value is 20\n",
            "The found calculated value is 20\n",
            "SUCCESS\n",
            "The test sequence is AAGGGCTCTATAA\n",
            "The expected value is 36\n",
            "The found calculated value is 36\n",
            "SUCCESS\n"
          ]
        }
      ],
      "source": [
        "# now test your function with test_seq_basic_tm\n",
        "for test, temp in test_sequences:\n",
        "    print(\"The test sequence is \" + test)\n",
        "    print(\"The expected value is \" + str(temp))\n",
        "    found_value = basic_tm(test)\n",
        "    print(\"The found calculated value is \" + str(found_value))\n",
        "    if found_value == temp:\n",
        "        print(\"SUCCESS\")\n",
        "    else:\n",
        "        print(\"NO. DO BETTER.\")\n",
        "# FIRST cut and paste and adapt code from the example above"
      ]
    },
    {
      "cell_type": "code",
      "execution_count": 33,
      "metadata": {
        "id": "dlocephiY0Zj"
      },
      "outputs": [
        {
          "name": "stdout",
          "output_type": "stream",
          "text": [
            "The test sequence is A\n",
            "The test GC percentage is 0\n",
            "The calculated GC percentage is also 0.0 - well done!\n",
            "The test sequence is G\n",
            "The test GC percentage is 100\n",
            "The calculated GC percentage is also 100.0 - well done!\n",
            "The test sequence is ATGC\n",
            "The test GC percentage is 50\n",
            "The calculated GC percentage is also 50.0 - well done!\n",
            "The test sequence is AGG\n",
            "The test GC percentage is 66.667\n",
            "The calculated GC percentage is also 66.667 - well done!\n",
            "The test sequence is AAAA\n",
            "The test GC percentage is 43\n",
            "The calculated GC percentage is 0.0 rather than 43. Not quite right!\n",
            "The test sequence is A\n",
            "The test temperature is 2\n",
            "The calcualated temperature is also 2 - well done!\n",
            "The test sequence is AGGT\n",
            "The test temperature is 12\n",
            "The calcualated temperature is also 12 - well done!\n",
            "The test sequence is TGGACT\n",
            "The test temperature is 18\n",
            "The calcualated temperature is also 18 - well done!\n",
            "The test sequence is AAAA\n",
            "The test temperature is 23\n",
            "The calculated temperature is 8 rather than 23. Not quite right!\n"
          ]
        }
      ],
      "source": [
        "# Advanced programmers only! Avoid code duplication \n",
        "# in the testing by writing a function  that can test\n",
        "# both percentage_gc and basic_tm functions against the\n",
        "# appropriate test data set.\n",
        "\n",
        "gc_test_data_ex = [(\"A\", 0),\n",
        "                    (\"G\", 100),\n",
        "                    (\"ATGC\", 50),\n",
        "                    (\"AGG\", 66.6666667),\n",
        "                    (\"AAAA\", 43)]\n",
        "\n",
        "temp_test_data_ex = [(\"A\", 2),\n",
        "                    (\"AGGT\", 12), \n",
        "                    (\"TGGACT\", 18),\n",
        "                    (\"AAAA\", 23)]\n",
        "def temp_and_gc_tester(gc_test_data, temp_test_data):\n",
        "\n",
        "    \"\"\"This function is able to run a set of test data for calculation of GC percentage, \n",
        "    and a different set of test data for calculation of temperature percentage, at the same time.\n",
        "    It will print a sentence telling the observer whether the output of the function is the same\n",
        "    as the value contained in the test data.\"\"\"\n",
        "\n",
        "    #Testing the GC content function against the test data\n",
        "    for gc_test_item, gc_test_result in gc_test_data:\n",
        "        gc_test_result = round(gc_test_result, 3)\n",
        "        print(\"The test sequence is \" + gc_test_item)\n",
        "        print(\"The test GC percentage is \" + str(gc_test_result))\n",
        "        calculated_gc = round(percent_gc(gc_test_item), 3)\n",
        "        if gc_test_result == calculated_gc:\n",
        "            print(\"The calculated GC percentage is also \" + str(calculated_gc) + \" - well done!\")\n",
        "        else:\n",
        "            print(\"The calculated GC percentage is \" + str(calculated_gc) + \" rather than \" + str(gc_test_result) + \". Not quite right!\")\n",
        "    \n",
        "    #Testing the temperature function against the test data\n",
        "    for temp_test_item, temp_test_result in temp_test_data:\n",
        "        print(\"The test sequence is \" + temp_test_item)\n",
        "        temp_test_result = round(temp_test_result, 3)\n",
        "        print(\"The test temperature is \" + str(temp_test_result))\n",
        "        calculated_temp = round(basic_tm(temp_test_item), 3)\n",
        "        if temp_test_result == calculated_temp:\n",
        "            print(\"The calcualated temperature is also \" + str(calculated_temp) + \" - well done!\")\n",
        "        else:\n",
        "            print(\"The calculated temperature is \" + str(calculated_temp) + \" rather than \" + str(temp_test_result) + \". Not quite right!\")\n",
        "\n",
        "temp_and_gc_tester(gc_test_data_ex, temp_test_data_ex)\n",
        "\n",
        "\n"
      ]
    },
    {
      "cell_type": "markdown",
      "metadata": {
        "id": "l3snPIkYY0Zk"
      },
      "source": [
        "### Dealing with longer sequences\n",
        "\n",
        "Returning to the prediction of the DNA melting temperature. The formula:\n",
        "\n",
        "$$\n",
        "T_m = 2(N_A + N_T) + 4(N_G + N_C)\n",
        "$$\n",
        "\n",
        "only applies for sequences that are shorter than 14 nucleotide. \n",
        "For sequences of 14 nucleotides and longer the OligoCalc Tool\n",
        "http://biotools.nubic.northwestern.edu/OligoCalc.html \n",
        "uses the equation:\n",
        "\n",
        "$$\n",
        "T_m= 64.9 +41.\\frac{N_G + N_C - 16.4}{N_A + N_T + N_G + N_C}\n",
        "$$\n",
        "\n",
        "This equation is taken from\n",
        "Sambrook,J., and Russell,D.W. (2001) Molecular Cloning: A Laboratory Manual. Cold Spring Harbor Laboratory Press; Cold Spring Harbor, NY. [CHSL Press](http://www.molecularcloning.com/)."
      ]
    },
    {
      "cell_type": "markdown",
      "metadata": {
        "id": "MNL_hBC5Y0Zk"
      },
      "source": [
        "First extend your test set to include sequences of 14 bases and upwards:\n",
        "\n",
        "Complete the following table by running the basic tm calculation for \n",
        "each sequence at http://biotools.nubic.northwestern.edu/OligoCalc.html \n",
        "\n",
        "| **test sequence**   | **Basic Tm (degrees C) from OligoCalc** |\n",
        "| -----------------   | :-------------------------------------: |\n",
        "| `14*'G'`            |  57.9   |\n",
        "| `14*'A'`            |  16.9  |   \n",
        "| AGAGTATACCCCCCCTTTTTTTGCTCGGGGGTCAT |   66.8   |\n",
        "| TATATAACGGTTTTTAATTTTTTGCCGTGGTCAA |  57.2    |\n",
        "| ACTTTATAACTAGGGCGTCCATTAGACCTAAGAGA |  62.1    |\n",
        "\n",
        "*Note that Oligocalc quotes Basic Tm to one decimal place. It might\n",
        "have been more appropriate to round to the nearest figure to\n",
        "show users these are ball-park predictions? In any case you will\n",
        "need to take this into account in your comparisons*"
      ]
    },
    {
      "cell_type": "code",
      "execution_count": 34,
      "metadata": {
        "id": "zzg_9I3CY0Zk"
      },
      "outputs": [],
      "source": [
        "# instruction append this test data to your test_data list for basic_tm function\n",
        "new_test_data = test_sequences + [(14 * \"G\", 57.8),\n",
        "                                        (14 * \"A\", 16.9),\n",
        "                                        (\"AGAGTATACCCCCCCTTTTTTTGCTCGGGGGTCAT\", 66.8),\n",
        "                                        (\"TATATAACGGTTTTTAATTTTTTGCCGTGGTCAA\", 57.2),\n",
        "                                        (\"ACTTTATAACTAGGGCGTCCATTAGACCTAAGAGA\", 62.1)]\n",
        "\n"
      ]
    },
    {
      "cell_type": "code",
      "execution_count": 35,
      "metadata": {
        "id": "Tdb4K8AJY0Zk"
      },
      "outputs": [
        {
          "name": "stdout",
          "output_type": "stream",
          "text": [
            "4\n",
            "8\n",
            "2\n",
            "6\n",
            "24\n",
            "20\n",
            "36\n"
          ]
        },
        {
          "ename": "ValueError",
          "evalue": "The string is too long - the output may not be accurate",
          "output_type": "error",
          "traceback": [
            "\u001b[0;31m---------------------------------------------------------------------------\u001b[0m",
            "\u001b[0;31mValueError\u001b[0m                                Traceback (most recent call last)",
            "\u001b[0;32m/var/folders/vd/2jzw7_j57zg36gpgyhfdsq4r0000gn/T/ipykernel_22616/4221348023.py\u001b[0m in \u001b[0;36m<module>\u001b[0;34m\u001b[0m\n\u001b[1;32m      1\u001b[0m \u001b[0;31m# instruction check that the current implementation of basic_tm fails for new test data\u001b[0m\u001b[0;34m\u001b[0m\u001b[0;34m\u001b[0m\u001b[0;34m\u001b[0m\u001b[0m\n\u001b[1;32m      2\u001b[0m \u001b[0;32mfor\u001b[0m \u001b[0mtestseq\u001b[0m\u001b[0;34m,\u001b[0m \u001b[0mtestresult\u001b[0m \u001b[0;32min\u001b[0m \u001b[0mnew_test_data\u001b[0m\u001b[0;34m:\u001b[0m\u001b[0;34m\u001b[0m\u001b[0;34m\u001b[0m\u001b[0m\n\u001b[0;32m----> 3\u001b[0;31m     \u001b[0mprint\u001b[0m\u001b[0;34m(\u001b[0m\u001b[0mbasic_tm\u001b[0m\u001b[0;34m(\u001b[0m\u001b[0mtestseq\u001b[0m\u001b[0;34m)\u001b[0m\u001b[0;34m)\u001b[0m\u001b[0;34m\u001b[0m\u001b[0;34m\u001b[0m\u001b[0m\n\u001b[0m",
            "\u001b[0;32m/var/folders/vd/2jzw7_j57zg36gpgyhfdsq4r0000gn/T/ipykernel_22616/3982467759.py\u001b[0m in \u001b[0;36mbasic_tm\u001b[0;34m(sequence)\u001b[0m\n\u001b[1;32m     11\u001b[0m     \u001b[0mgccount\u001b[0m \u001b[0;34m=\u001b[0m \u001b[0;36m0\u001b[0m\u001b[0;34m\u001b[0m\u001b[0;34m\u001b[0m\u001b[0m\n\u001b[1;32m     12\u001b[0m     \u001b[0;32mif\u001b[0m \u001b[0mlen\u001b[0m\u001b[0;34m(\u001b[0m\u001b[0msequence\u001b[0m\u001b[0;34m)\u001b[0m \u001b[0;34m>=\u001b[0m \u001b[0;36m14\u001b[0m\u001b[0;34m:\u001b[0m\u001b[0;34m\u001b[0m\u001b[0;34m\u001b[0m\u001b[0m\n\u001b[0;32m---> 13\u001b[0;31m         \u001b[0;32mraise\u001b[0m \u001b[0mValueError\u001b[0m\u001b[0;34m(\u001b[0m\u001b[0;34m\"The string is too long - the output may not be accurate\"\u001b[0m\u001b[0;34m)\u001b[0m\u001b[0;34m\u001b[0m\u001b[0;34m\u001b[0m\u001b[0m\n\u001b[0m\u001b[1;32m     14\u001b[0m \u001b[0;34m\u001b[0m\u001b[0m\n\u001b[1;32m     15\u001b[0m     \u001b[0;32mfor\u001b[0m \u001b[0mletter\u001b[0m \u001b[0;32min\u001b[0m \u001b[0msequence\u001b[0m\u001b[0;34m:\u001b[0m\u001b[0;34m\u001b[0m\u001b[0;34m\u001b[0m\u001b[0m\n",
            "\u001b[0;31mValueError\u001b[0m: The string is too long - the output may not be accurate"
          ]
        }
      ],
      "source": [
        "# instruction check that the current implementation of basic_tm fails for new test data\n",
        "for testseq, testresult in new_test_data:\n",
        "    print(basic_tm(testseq))"
      ]
    },
    {
      "cell_type": "code",
      "execution_count": 36,
      "metadata": {
        "id": "8AOqU89aY0Zl"
      },
      "outputs": [],
      "source": [
        "# instruction - replace basic_tm with a new implementation that deals with longer sequences\n",
        "def less_basic_tm(longsequence):\n",
        "    \"\"\"This function accepts a string that contains a DNA sequence (As, Ts, Gs, and Cs) and returns\n",
        "    the melting temperature of that sequence.\n",
        "    \n",
        "    The formula used for strings longer than or equal to 14 bases is: T_m= 64.9 +41.\\frac{N_G + N_C - 16.4}{N_A + N_T + N_G + N_C}\n",
        "    This equation is taken from Sambrook,J., and Russell,D.W. (2001) Molecular Cloning: \n",
        "    A Laboratory Manual. Cold Spring Harbor Laboratory Press; Cold Spring Harbor, NY. \n",
        "    [CHSL Press](http://www.molecularcloning.com/).\n",
        "\n",
        "    The formula used for strings shorter than 14 bases can be found at http://biotools.nubic.northwestern.edu/OligoCalc.html who cite \n",
        "    Marmur,J., and Doty,P. (1962) *J Mol Biol* **5**:109-118 https://doi.org/10.1016/S0022-2836(62)80066-7\n",
        "    \"\"\"\n",
        "    tm = 0 \n",
        "    atcount = 0\n",
        "    gccount = 0\n",
        "\n",
        "    for letter in sequence:\n",
        "\n",
        "        if letter in \"AaTt\":\n",
        "            atcount += 1\n",
        "\n",
        "        elif letter in \"GgCc\":\n",
        "            gccount += 1\n",
        "\n",
        "        elif letter in \"Uu\":\n",
        "            raise ValueError(\"Whoops! Looks like that might have uracil in there, or you've just written a word with a U in. Either way, try a different sequence with only A, T, G, and C\")\n",
        "        \n",
        "        else:\n",
        "            raise ValueError(\"Doesn't look like that's a valid string of DNA. Try inputting a sequence that contains only As, Ts, Gs and Cs!\")\n",
        "\n",
        "    if 0 < len(sequence) < 14:\n",
        "        tm = (2 * atcount) + (4 * gccount)\n",
        "    elif len(sequence) >= 14:\n",
        "        tm = 64.9 + (41 * ((gccount - 16.4)/ (atcount + gccount)))\n",
        "    elif len(sequence) == 0:\n",
        "        raise ValueError(\"Where's the sequence? Please provide an input!\")\n",
        "    return tm \n"
      ]
    },
    {
      "cell_type": "code",
      "execution_count": 37,
      "metadata": {
        "id": "zYXzvxN2Y0Zl"
      },
      "outputs": [
        {
          "name": "stdout",
          "output_type": "stream",
          "text": [
            "Help on function less_basic_tm in module __main__:\n",
            "\n",
            "less_basic_tm(longsequence)\n",
            "    This function accepts a string that contains a DNA sequence (As, Ts, Gs, and Cs) and returns\n",
            "    the melting temperature of that sequence.\n",
            "    \n",
            "    The formula used for strings longer than or equal to 14 bases is: T_m= 64.9 +41.\frac{N_G + N_C - 16.4}{N_A + N_T + N_G + N_C}\n",
            "    This equation is taken from Sambrook,J., and Russell,D.W. (2001) Molecular Cloning: \n",
            "    A Laboratory Manual. Cold Spring Harbor Laboratory Press; Cold Spring Harbor, NY. \n",
            "    [CHSL Press](http://www.molecularcloning.com/).\n",
            "    \n",
            "    The formula used for strings shorter than 14 bases can be found at http://biotools.nubic.northwestern.edu/OligoCalc.html who cite \n",
            "    Marmur,J., and Doty,P. (1962) *J Mol Biol* **5**:109-118 https://doi.org/10.1016/S0022-2836(62)80066-7\n",
            "\n"
          ]
        }
      ],
      "source": [
        "# instruction - check the help message for the new implementation of basic_tm\n",
        "help(less_basic_tm)"
      ]
    },
    {
      "cell_type": "code",
      "execution_count": 39,
      "metadata": {
        "id": "V1Y6pZfiY0Zm"
      },
      "outputs": [
        {
          "name": "stdout",
          "output_type": "stream",
          "text": [
            "The test sequence is G\n",
            "The test temperature is 4\n",
            "The calculated temperature is 4\n",
            "Good\n",
            "The test sequence is GG\n",
            "The test temperature is 8\n",
            "The calculated temperature is 8\n",
            "Good\n",
            "The test sequence is A\n",
            "The test temperature is 2\n",
            "The calculated temperature is 2\n",
            "Good\n",
            "The test sequence is GA\n",
            "The test temperature is 6\n",
            "The calculated temperature is 6\n",
            "Good\n",
            "The test sequence is TTTTCCCC\n",
            "The test temperature is 24\n",
            "The calculated temperature is 24\n",
            "Good\n",
            "The test sequence is AAAAAAAAAA\n",
            "The test temperature is 20\n",
            "The calculated temperature is 20\n",
            "Good\n",
            "The test sequence is AAGGGCTCTATAA\n",
            "The test temperature is 36\n",
            "The calculated temperature is 36\n",
            "Good\n",
            "The test sequence is GGGGGGGGGGGGGG\n",
            "The test temperature is 57.8\n",
            "The calculated temperature is 57.9\n",
            "Bad\n",
            "The test sequence is AAAAAAAAAAAAAA\n",
            "The test temperature is 16.9\n",
            "The calculated temperature is 16.9\n",
            "Good\n",
            "The test sequence is AGAGTATACCCCCCCTTTTTTTGCTCGGGGGTCAT\n",
            "The test temperature is 66.8\n",
            "The calculated temperature is 66.8\n",
            "Good\n",
            "The test sequence is TATATAACGGTTTTTAATTTTTTGCCGTGGTCAA\n",
            "The test temperature is 57.2\n",
            "The calculated temperature is 57.2\n",
            "Good\n",
            "The test sequence is ACTTTATAACTAGGGCGTCCATTAGACCTAAGAGA\n",
            "The test temperature is 62.1\n",
            "The calculated temperature is 62.1\n",
            "Good\n"
          ]
        }
      ],
      "source": [
        "# instruction - rerun tests and check that basic_tm works.\n",
        "for sequence, temp in new_test_data:\n",
        "    print(\"The test sequence is \" + sequence)\n",
        "    temp = round(temp, 1)\n",
        "    print(\"The test temperature is \" + str(temp))\n",
        "    print(\"The calculated temperature is \" + str(round(less_basic_tm(sequence), 1)))\n",
        "    if temp == round(less_basic_tm(sequence), 1):\n",
        "        print(\"Good\")\n",
        "    else:\n",
        "        print(\"Bad\")"
      ]
    },
    {
      "cell_type": "markdown",
      "metadata": {
        "id": "WWwphPvPY0Zm"
      },
      "source": [
        "## Optional: Adapting the basic_tm to deal with  ambiguous sequence X\n",
        "\n",
        "> Have a go at this if you have time.\n",
        "\n",
        "* What happens if you were presented with sequences where there was ambiguity and unknown nucleotides were marked with the code `X` ? \n",
        "* There are a number of possibilities:\n",
        "  * We could ignore the `X` completely - but is this sensible?\n",
        "  * Or we could work out the maximum basic_tm by assuming that all `X` were `G` or `C`\n",
        "  * Conversely we could find the minimum basic_tm by assuming that all `X` were `A` or `T`\n",
        "  * Or we could take a 'half-way house' that produces answers averaging the maximum and minimum.\n",
        "  \n",
        "Adapt your functions introducing an optional argument:\n",
        "```\n",
        "ambiguity='mid'\n",
        "\n",
        "# docstring description for ambiguity\n",
        "\"\"\"\n",
        "ambiguity controls how X in sequence are treated. \n",
        "If ambiguity is set to 'max' then X's in sequence are treated \n",
        "as G/C to give the maximum basic Tm. If set to 'min' then\n",
        "they are treated as A/T to give the minimum. The default 'mid'\n",
        "averages the 'max' and 'min' values.\n",
        "\"\"\"\n",
        "```"
      ]
    },
    {
      "cell_type": "code",
      "execution_count": 73,
      "metadata": {
        "id": "_kp-QAW0Y0Zm"
      },
      "outputs": [],
      "source": [
        "# instruction - introduce the ambiguity='mid' into basic_tm\n",
        "def even_less_basic_tm(longsequence, ambiguity=\"mid\"):\n",
        "    \"\"\"This function accepts a string that contains a DNA sequence (As, Ts, Gs, and Cs) and returns\n",
        "    the melting temperature of that sequence.\n",
        "    \n",
        "    The formula used for strings longer than or equal to 14 bases is: T_m= 64.9 +41.\\frac{N_G + N_C - 16.4}{N_A + N_T + N_G + N_C}\n",
        "    This equation is taken from Sambrook,J., and Russell,D.W. (2001) Molecular Cloning: \n",
        "    A Laboratory Manual. Cold Spring Harbor Laboratory Press; Cold Spring Harbor, NY. \n",
        "    [CHSL Press](http://www.molecularcloning.com/).\n",
        "\n",
        "    The formula used for strings shorter than 14 bases can be found at http://biotools.nubic.northwestern.edu/OligoCalc.html who cite \n",
        "    Marmur,J., and Doty,P. (1962) *J Mol Biol* **5**:109-118 https://doi.org/10.1016/S0022-2836(62)80066-7\n",
        "    \"\"\"\n",
        "    tm = 0 \n",
        "    atcount = 0\n",
        "    gccount = 0\n",
        "    xcount = 0\n",
        "\n",
        "    for letter in longsequence:\n",
        "\n",
        "        if letter in \"AaTt\":\n",
        "            atcount += 1\n",
        "\n",
        "        elif letter in \"GgCc\":\n",
        "            gccount += 1\n",
        "        \n",
        "        elif letter in \"Xx\":\n",
        "            xcount += 1\n",
        "\n",
        "        elif letter in \"Uu\":\n",
        "            raise ValueError(\"Whoops! Looks like that might have uracil in there, or you've just written a word with a U in. Either way, try a different sequence with only A, T, G, and C\")\n",
        "        \n",
        "        else:\n",
        "            raise ValueError(\"Doesn't look like that's a valid string of DNA. Try inputting a sequence that contains only As, Ts, Gs and Cs!\")\n",
        "    \n",
        "\n",
        "    if ambiguity==\"min\":\n",
        "        atcount += xcount\n",
        "        if 0 < len(longsequence) < 14:\n",
        "            tm = (2 * atcount) + (4 * gccount)\n",
        "        elif len(longsequence) >= 14:\n",
        "            tm = 64.9 + (41 * ((gccount - 16.4)/ (atcount + gccount)))\n",
        "        elif len(longsequence) == 0:\n",
        "            raise ValueError(\"Where's the sequence? Please provide an input!\")\n",
        "        return tm\n",
        "    elif ambiguity == \"max\":\n",
        "        gccount += xcount\n",
        "        if 0 < len(longsequence) < 14:\n",
        "            tm = (2 * atcount) + (4 * gccount)\n",
        "        elif len(longsequence) >= 14:\n",
        "            tm = 64.9 + (41 * ((gccount - 16.4)/ (atcount + gccount)))\n",
        "        elif len(longsequence) == 0:\n",
        "            raise ValueError(\"Where's the sequence? Please provide an input!\")\n",
        "        return tm\n",
        "    elif ambiguity == \"mid\":\n",
        "        minambi = even_less_basic_tm(longsequence, ambiguity=\"min\")\n",
        "        maxambi = even_less_basic_tm(longsequence, ambiguity=\"max\")\n",
        "        midambi = (minambi + maxambi)/2\n",
        "        return midambi\n",
        "\n",
        "\n"
      ]
    },
    {
      "cell_type": "code",
      "execution_count": 80,
      "metadata": {
        "id": "3cmBrxemY0Zn"
      },
      "outputs": [
        {
          "ename": "ValueError",
          "evalue": "Where's the sequence? Please provide an input!",
          "output_type": "error",
          "traceback": [
            "\u001b[0;31m---------------------------------------------------------------------------\u001b[0m",
            "\u001b[0;31mValueError\u001b[0m                                Traceback (most recent call last)",
            "\u001b[0;32m/var/folders/vd/2jzw7_j57zg36gpgyhfdsq4r0000gn/T/ipykernel_22616/2518721174.py\u001b[0m in \u001b[0;36m<module>\u001b[0;34m\u001b[0m\n\u001b[1;32m      2\u001b[0m \u001b[0mtestingambiguity\u001b[0m \u001b[0;34m=\u001b[0m \u001b[0;34m\"\"\u001b[0m\u001b[0;34m\u001b[0m\u001b[0;34m\u001b[0m\u001b[0m\n\u001b[1;32m      3\u001b[0m \u001b[0;32mfor\u001b[0m \u001b[0mambi\u001b[0m \u001b[0;32min\u001b[0m \u001b[0;34m[\u001b[0m\u001b[0;34m\"min\"\u001b[0m\u001b[0;34m,\u001b[0m \u001b[0;34m\"mid\"\u001b[0m\u001b[0;34m,\u001b[0m \u001b[0;34m\"max\"\u001b[0m\u001b[0;34m]\u001b[0m\u001b[0;34m:\u001b[0m\u001b[0;34m\u001b[0m\u001b[0;34m\u001b[0m\u001b[0m\n\u001b[0;32m----> 4\u001b[0;31m     \u001b[0mprint\u001b[0m\u001b[0;34m(\u001b[0m\u001b[0meven_less_basic_tm\u001b[0m\u001b[0;34m(\u001b[0m\u001b[0mtestingambiguity\u001b[0m\u001b[0;34m,\u001b[0m \u001b[0mambiguity\u001b[0m\u001b[0;34m=\u001b[0m\u001b[0mambi\u001b[0m\u001b[0;34m)\u001b[0m\u001b[0;34m)\u001b[0m\u001b[0;34m\u001b[0m\u001b[0;34m\u001b[0m\u001b[0m\n\u001b[0m",
            "\u001b[0;32m/var/folders/vd/2jzw7_j57zg36gpgyhfdsq4r0000gn/T/ipykernel_22616/1810620531.py\u001b[0m in \u001b[0;36meven_less_basic_tm\u001b[0;34m(longsequence, ambiguity)\u001b[0m\n\u001b[1;32m     42\u001b[0m             \u001b[0mtm\u001b[0m \u001b[0;34m=\u001b[0m \u001b[0;36m64.9\u001b[0m \u001b[0;34m+\u001b[0m \u001b[0;34m(\u001b[0m\u001b[0;36m41\u001b[0m \u001b[0;34m*\u001b[0m \u001b[0;34m(\u001b[0m\u001b[0;34m(\u001b[0m\u001b[0mgccount\u001b[0m \u001b[0;34m-\u001b[0m \u001b[0;36m16.4\u001b[0m\u001b[0;34m)\u001b[0m\u001b[0;34m/\u001b[0m \u001b[0;34m(\u001b[0m\u001b[0matcount\u001b[0m \u001b[0;34m+\u001b[0m \u001b[0mgccount\u001b[0m\u001b[0;34m)\u001b[0m\u001b[0;34m)\u001b[0m\u001b[0;34m)\u001b[0m\u001b[0;34m\u001b[0m\u001b[0;34m\u001b[0m\u001b[0m\n\u001b[1;32m     43\u001b[0m         \u001b[0;32melif\u001b[0m \u001b[0mlen\u001b[0m\u001b[0;34m(\u001b[0m\u001b[0mlongsequence\u001b[0m\u001b[0;34m)\u001b[0m \u001b[0;34m==\u001b[0m \u001b[0;36m0\u001b[0m\u001b[0;34m:\u001b[0m\u001b[0;34m\u001b[0m\u001b[0;34m\u001b[0m\u001b[0m\n\u001b[0;32m---> 44\u001b[0;31m             \u001b[0;32mraise\u001b[0m \u001b[0mValueError\u001b[0m\u001b[0;34m(\u001b[0m\u001b[0;34m\"Where's the sequence? Please provide an input!\"\u001b[0m\u001b[0;34m)\u001b[0m\u001b[0;34m\u001b[0m\u001b[0;34m\u001b[0m\u001b[0m\n\u001b[0m\u001b[1;32m     45\u001b[0m         \u001b[0;32mreturn\u001b[0m \u001b[0mtm\u001b[0m\u001b[0;34m\u001b[0m\u001b[0;34m\u001b[0m\u001b[0m\n\u001b[1;32m     46\u001b[0m     \u001b[0;32melif\u001b[0m \u001b[0mambiguity\u001b[0m \u001b[0;34m==\u001b[0m \u001b[0;34m\"max\"\u001b[0m\u001b[0;34m:\u001b[0m\u001b[0;34m\u001b[0m\u001b[0;34m\u001b[0m\u001b[0m\n",
            "\u001b[0;31mValueError\u001b[0m: Where's the sequence? Please provide an input!"
          ]
        }
      ],
      "source": [
        "# test it (manual will do)\n",
        "testingambiguity = \"\"\n",
        "for ambi in [\"min\", \"mid\", \"max\"]:\n",
        "    print(even_less_basic_tm(testingambiguity, ambiguity=ambi))"
      ]
    },
    {
      "cell_type": "markdown",
      "metadata": {
        "id": "M0hr6A-LY0Zn"
      },
      "source": [
        "Extend the ambiguity optional argument to have an additional value `'range'` that instead of returning a single basic_tm value returns a tuple of the minimum to maximum values."
      ]
    },
    {
      "cell_type": "code",
      "execution_count": 97,
      "metadata": {
        "id": "vYVHzZsWY0Zn"
      },
      "outputs": [],
      "source": [
        "# instruction - introduce the additional value 'range' for ambiguity\n",
        "def even_even_less_basic_tm(sequence, ambiguity=\"mid\", range=False):\n",
        "    if range:\n",
        "        list_of_values = []\n",
        "        list_of_ambis = [\"min\", \"mid\", \"max\"]\n",
        "        for ambi in list_of_ambis:\n",
        "            list_of_values.append(even_less_basic_tm(sequence, ambiguity = ambi))\n",
        "        tupleofvalues = tuple(zip(list_of_ambis, list_of_values))\n",
        "        return tupleofvalues\n",
        "    elif not range:\n",
        "        return even_less_basic_tm(sequence, ambiguity)\n"
      ]
    },
    {
      "cell_type": "code",
      "execution_count": 98,
      "metadata": {
        "id": "1mS3s0WHY0Zn"
      },
      "outputs": [
        {
          "data": {
            "text/plain": [
              "(('min', 18), ('mid', 19.0), ('max', 20))"
            ]
          },
          "execution_count": 98,
          "metadata": {},
          "output_type": "execute_result"
        }
      ],
      "source": [
        "# test it (manual will do)\n",
        "testsequence = \"AAXGGG\"\n",
        "even_even_less_basic_tm(testsequence, ambiguity=\"mid\", range=True)"
      ]
    },
    {
      "cell_type": "markdown",
      "metadata": {
        "id": "i5Z_c1fUY0Zo"
      },
      "source": [
        "# Real world prediction of DNA melting temperatures using Python\n",
        "\n",
        "* For real-world prediction of DNA melting temperatures [BioPython](https://biopython.org/)\n",
        "  includes a MeltingTemp module:\n",
        "\n",
        "  http://biopython.org/DIST/docs/api/Bio.SeqUtils.MeltingTemp-module.html \n",
        "\n",
        "  that implements a wide range of algorithms for Tm prediction. \n",
        "  \n",
        "  An alternative is https://pypi.org/project/melt/\n",
        "  \n",
        "Web tools:\n",
        "* http://biotools.nubic.northwestern.edu/OligoCalc.html\n",
        "* https://www.ebi.ac.uk/biomodels-static/tools/melting/melt.php"
      ]
    },
    {
      "cell_type": "markdown",
      "metadata": {
        "id": "Ch79GKHrY0Zo"
      },
      "source": [
        "## Optional: Try out the BioPython MeltingTemp module\n",
        "\n",
        "This is for the keen! "
      ]
    },
    {
      "cell_type": "markdown",
      "metadata": {
        "collapsed": true,
        "id": "kbT32eW5Y0Zo"
      },
      "source": [
        "> ### Reminder: saving your work\n",
        ">\n",
        "> As you work through the work book it is important to regularly save your work. Notice that as you have made  changes the Jupyter window top line will warn you there are `(unsaved changes)` in small text. To save your work in this notebook by either select menu item `File` `Save` or by hit the save button:\n",
        "> \n",
        "> ![Jupyter Notebook Save Button|](https://aru-bioinf-ibds.github.io./images/save_button.png)\n",
        ">\n",
        "> \n",
        "> ### Reminder: getting help \n",
        "> Please see the page:\n",
        "> [Help with programming](https://canvas.anglia.ac.uk/courses/12178/pages/help-with-programming)\n",
        "> on ARU Canvas."
      ]
    },
    {
      "cell_type": "markdown",
      "metadata": {
        "id": "FzaJGt9qY0Zo"
      },
      "source": [
        "## Once you have completed this homework, \n",
        "Please see ARU Canvas page\n",
        "[Reflection on Practical E: writing your own functions](https://canvas.anglia.ac.uk/courses/12178/discussion_topics/109556)\n",
        "for the follow up."
      ]
    },
    {
      "cell_type": "code",
      "execution_count": null,
      "metadata": {
        "id": "3rHv8SEwY0Zo"
      },
      "outputs": [],
      "source": []
    }
  ],
  "metadata": {
    "colab": {
      "name": "homework_E.ipynb",
      "provenance": []
    },
    "interpreter": {
      "hash": "c30f2af5f468e7f5b45bcc30fca5f4886c90d54777aed916ed5f6294dfb24bf2"
    },
    "kernelspec": {
      "display_name": "Python 3.8.10 64-bit ('base': conda)",
      "name": "python3"
    },
    "language_info": {
      "codemirror_mode": {
        "name": "ipython",
        "version": 3
      },
      "file_extension": ".py",
      "mimetype": "text/x-python",
      "name": "python",
      "nbconvert_exporter": "python",
      "pygments_lexer": "ipython3",
      "version": "3.8.10"
    }
  },
  "nbformat": 4,
  "nbformat_minor": 0
}
