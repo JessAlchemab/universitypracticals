{
  "nbformat": 4,
  "nbformat_minor": 2,
  "metadata": {
    "kernelspec": {
      "name": "python3",
      "display_name": "Python 3.8.10 64-bit ('base': conda)"
    },
    "language_info": {
      "codemirror_mode": {
        "name": "ipython",
        "version": 3
      },
      "file_extension": ".py",
      "mimetype": "text/x-python",
      "name": "python",
      "nbconvert_exporter": "python",
      "pygments_lexer": "ipython3",
      "version": "3.8.10"
    },
    "colab": {
      "name": "homework_A.ipynb",
      "provenance": []
    },
    "interpreter": {
      "hash": "f85c0ae1067a86ad6a96b144378883e79fd1516474b579ba33ee3a7084540002"
    }
  },
  "cells": [
    {
      "cell_type": "markdown",
      "source": [
        "# homework A: Editing and Saving a Jupyter Notebook\n",
        "\n",
        "Make sure you have worked through workbook A"
      ],
      "metadata": {
        "id": "kChXWreXce7h"
      }
    },
    {
      "cell_type": "code",
      "execution_count": 1,
      "source": [
        "# Instruction: edit this cell \n",
        "# replacing **** with your name on your next line\n",
        "print('This line will print my name! My name is Jess')"
      ],
      "outputs": [
        {
          "output_type": "stream",
          "name": "stdout",
          "text": [
            "This line will print my name! My name is Jess\n"
          ]
        }
      ],
      "metadata": {
        "id": "DLq5GZj2ce7l"
      }
    },
    {
      "cell_type": "markdown",
      "source": [
        "> ###  saving your work\n",
        ">\n",
        "> As you work through the work book it is important to regularly save your work. Notice that as you have made  changes the Jupyter window top line will warn you there are `(unsaved changes)` in small text. To save your work in this notebook by either select menu item `File` `Save` or by hit the save button:\n",
        "> \n",
        "> ![Jupyter Notebook Save Button|](https://aru-bioinf-ibds.github.io./images/save_button.png)\n",
        ">\n",
        "> \n",
        "> ### Reminder: getting help \n",
        "> Please see the page:\n",
        "> [Help with programming](https://canvas.anglia.ac.uk/courses/12178/pages/help-with-programming)\n",
        "> on ARU Canvas."
      ],
      "metadata": {
        "id": "u2WbWzyHce7n"
      }
    },
    {
      "cell_type": "markdown",
      "source": [
        "## Once you have completed this homework\n",
        "Please see ARU Canvas page\n",
        "[Reflection on Practical A](https://canvas.anglia.ac.uk/courses/12178/discussion_topics/104828) for what to do next."
      ],
      "metadata": {
        "id": "EE5qdeFRce7o"
      }
    },
    {
      "cell_type": "code",
      "execution_count": null,
      "source": [],
      "outputs": [],
      "metadata": {
        "id": "0uz6CrrNce7o"
      }
    }
  ]
}