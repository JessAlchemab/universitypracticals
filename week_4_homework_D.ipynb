{
  "nbformat": 4,
  "nbformat_minor": 2,
  "metadata": {
    "kernelspec": {
      "name": "python3",
      "display_name": "Python 3.8.10 64-bit ('base': conda)"
    },
    "language_info": {
      "codemirror_mode": {
        "name": "ipython",
        "version": 3
      },
      "file_extension": ".py",
      "mimetype": "text/x-python",
      "name": "python",
      "nbconvert_exporter": "python",
      "pygments_lexer": "ipython3",
      "version": "3.8.10"
    },
    "colab": {
      "name": "homework_D.ipynb",
      "provenance": []
    },
    "interpreter": {
      "hash": "f85c0ae1067a86ad6a96b144378883e79fd1516474b579ba33ee3a7084540002"
    }
  },
  "cells": [
    {
      "cell_type": "markdown",
      "source": [
        "# homework D: Conditional tests and loops\n",
        "\n",
        "Make sure you have worked through **workbook_D.ipynb**before tackling this homework."
      ],
      "metadata": {
        "id": "cCBcL1OLzmla"
      }
    },
    {
      "cell_type": "markdown",
      "source": [
        "> ### Reminder: saving your work\n",
        ">\n",
        "> As you work through the work book it is important to regularly save your work. Notice that as you have made  changes the Jupyter window top line will warn you there are `(unsaved changes)` in small text. To save your work in this notebook by either select menu item `File` `Save` or by hit the save button:\n",
        "> \n",
        "> ![Jupyter Notebook Save Button|](https://aru-bioinf-ibds.github.io./images/save_button.png)\n",
        ">\n",
        "> \n",
        "> ### Reminder: getting help \n",
        "> Please see the page:\n",
        "> [Help with programming](https://canvas.anglia.ac.uk/courses/12178/pages/help-with-programming)\n",
        "> on ARU Canvas."
      ],
      "metadata": {
        "id": "0E-lNUhuzmle"
      }
    },
    {
      "cell_type": "markdown",
      "source": [
        "## *(i)* Using if elif else to work out the complementary base\n",
        "\n",
        "In **homework C** we worked on finding the complement of a DNA sequence:\n",
        "```\n",
        "5'-AAAATTTGGC-3'\n",
        "   ||||||||||\n",
        "3'-TTTTAAACCG-5'\n",
        "```\n",
        "The complement of the sequence `TTTTAAACCG` is shown at the bottom.\n",
        "\n",
        "Your task is now is work out the complement of a single base according to the table:\n",
        "\n",
        "| base   | complement |\n",
        "| :----: | :--------: |\n",
        "| A | T |\n",
        "| T | A |\n",
        "| G | C |\n",
        "| C | G |"
      ],
      "metadata": {
        "collapsed": true,
        "id": "xlPSt--Xzmlf"
      }
    },
    {
      "cell_type": "code",
      "execution_count": 7,
      "source": [
        "# Instruction: write if elif elif elif code to work out complement for base\n",
        "\n",
        "base = 'T'  # alter this line to try different bases,\n",
        "complement = 'to be written'\n",
        "\n",
        "### your Python code lines with if elif ... here\n",
        "if base == \"A\":\n",
        "    complement = \"T\"\n",
        "elif base == \"T\":\n",
        "    complement = \"A\"\n",
        "elif base == \"G\":\n",
        "    complement = \"C\"\n",
        "else:\n",
        "    complement = \"G\"\n",
        "\n",
        "\n",
        "print('base:\"{}\" has complement:\"{}\"'.format(base, complement))"
      ],
      "outputs": [
        {
          "output_type": "stream",
          "name": "stdout",
          "text": [
            "base:\"T\" has complement:\"A\"\n"
          ]
        }
      ],
      "metadata": {
        "id": "VrABz3Lrzmlg"
      }
    },
    {
      "cell_type": "markdown",
      "source": [
        "### dealing with errors\n",
        "what should happens if the procedure is supplied with a base variable that is something other than `A`, `T`, `G` or `C`, such as `S`. \n",
        "Ideally, the program should terminate with a sensible error message letting the user know that the procedure cannot cope with the input.\n",
        "In Python the best way to deal with such errors is to *raise an exception* this causes the script to terminate with a message (unless it is coded to deal with the exception - you will learn about this latter). \n",
        "\n",
        "In this case it is appropriate to *raise* a *ValueError*"
      ],
      "metadata": {
        "id": "FnBJFSEPzmlh"
      }
    },
    {
      "cell_type": "code",
      "execution_count": 6,
      "source": [
        "# Instruction: run this cell to see how to raise a ValueError\n",
        "raise ValueError('useful message to user explaining what is wrong')"
      ],
      "outputs": [
        {
          "output_type": "error",
          "ename": "ValueError",
          "evalue": "useful message to user explaining what is wrong",
          "traceback": [
            "\u001b[0;31m---------------------------------------------------------------------------\u001b[0m",
            "\u001b[0;31mValueError\u001b[0m                                Traceback (most recent call last)",
            "\u001b[0;32m/var/folders/vd/2jzw7_j57zg36gpgyhfdsq4r0000gn/T/ipykernel_36584/2261108078.py\u001b[0m in \u001b[0;36m<module>\u001b[0;34m\u001b[0m\n\u001b[1;32m      1\u001b[0m \u001b[0;31m# Instruction: run this cell to see how to raise a ValueError\u001b[0m\u001b[0;34m\u001b[0m\u001b[0;34m\u001b[0m\u001b[0;34m\u001b[0m\u001b[0m\n\u001b[0;32m----> 2\u001b[0;31m \u001b[0;32mraise\u001b[0m \u001b[0mValueError\u001b[0m\u001b[0;34m(\u001b[0m\u001b[0;34m'useful message to user explaining what is wrong'\u001b[0m\u001b[0;34m)\u001b[0m\u001b[0;34m\u001b[0m\u001b[0;34m\u001b[0m\u001b[0m\n\u001b[0m",
            "\u001b[0;31mValueError\u001b[0m: useful message to user explaining what is wrong"
          ]
        }
      ],
      "metadata": {
        "id": "AgHgwSqDzmli"
      }
    },
    {
      "cell_type": "code",
      "execution_count": 10,
      "source": [
        "# Instruction: copy your Python from above and extend it \n",
        "# to raise a ValueError for unrecognized bases.\n",
        "\n",
        "base = 'W'  # alter this line to try different bases,\n",
        "\n",
        "\n",
        "# your Python code lines with if elif ... here\n",
        "if base == \"A\":\n",
        "    complement = \"T\"\n",
        "elif base == \"T\":\n",
        "    complement = \"A\"\n",
        "elif base == \"G\":\n",
        "    complement = \"C\"\n",
        "elif base == \"C\":\n",
        "    complement = \"G\"\n",
        "else:\n",
        "    raise ValueError(\"Input is not correct - must be one of 'A, T, G, C'\")\n",
        "\n",
        "print('base:\"{}\" has complement:\"{}\"'.format(base, complement))"
      ],
      "outputs": [
        {
          "output_type": "error",
          "ename": "ValueError",
          "evalue": "Input is not correct - must be one of 'A, T, G, C'",
          "traceback": [
            "\u001b[0;31m---------------------------------------------------------------------------\u001b[0m",
            "\u001b[0;31mValueError\u001b[0m                                Traceback (most recent call last)",
            "\u001b[0;32m/var/folders/vd/2jzw7_j57zg36gpgyhfdsq4r0000gn/T/ipykernel_36584/3776779896.py\u001b[0m in \u001b[0;36m<module>\u001b[0;34m\u001b[0m\n\u001b[1;32m     15\u001b[0m     \u001b[0mcomplement\u001b[0m \u001b[0;34m=\u001b[0m \u001b[0;34m\"G\"\u001b[0m\u001b[0;34m\u001b[0m\u001b[0;34m\u001b[0m\u001b[0m\n\u001b[1;32m     16\u001b[0m \u001b[0;32melse\u001b[0m\u001b[0;34m:\u001b[0m\u001b[0;34m\u001b[0m\u001b[0;34m\u001b[0m\u001b[0m\n\u001b[0;32m---> 17\u001b[0;31m     \u001b[0;32mraise\u001b[0m \u001b[0mValueError\u001b[0m\u001b[0;34m(\u001b[0m\u001b[0;34m\"Input is not correct - must be one of 'A, T, G, C'\"\u001b[0m\u001b[0;34m)\u001b[0m\u001b[0;34m\u001b[0m\u001b[0;34m\u001b[0m\u001b[0m\n\u001b[0m\u001b[1;32m     18\u001b[0m \u001b[0;34m\u001b[0m\u001b[0m\n\u001b[1;32m     19\u001b[0m \u001b[0mprint\u001b[0m\u001b[0;34m(\u001b[0m\u001b[0;34m'base:\"{}\" has complement:\"{}\"'\u001b[0m\u001b[0;34m.\u001b[0m\u001b[0mformat\u001b[0m\u001b[0;34m(\u001b[0m\u001b[0mbase\u001b[0m\u001b[0;34m,\u001b[0m \u001b[0mcomplement\u001b[0m\u001b[0;34m)\u001b[0m\u001b[0;34m)\u001b[0m\u001b[0;34m\u001b[0m\u001b[0;34m\u001b[0m\u001b[0m\n",
            "\u001b[0;31mValueError\u001b[0m: Input is not correct - must be one of 'A, T, G, C'"
          ]
        }
      ],
      "metadata": {
        "id": "q3FJZCQWzmlj"
      }
    },
    {
      "cell_type": "markdown",
      "source": [
        "## *(ii)* Reversing a string using a for loop\n",
        "\n",
        "In exercise B and homework B we saw the easy way to reverse a string is to use a special slice with an increment of minus -1:"
      ],
      "metadata": {
        "id": "764ep4slzmlk"
      }
    },
    {
      "cell_type": "code",
      "execution_count": 11,
      "source": [
        "# Instruction: run this cell to see how to reverse a string \n",
        "# using string slice with increment -1\n",
        "example = 'abcdefghijklmn'\n",
        "example_reverse = example[::-1]\n",
        "print('example_reverse = ' + example_reverse)"
      ],
      "outputs": [
        {
          "output_type": "stream",
          "name": "stdout",
          "text": [
            "example_reverse = nmlkjihgfedcba\n"
          ]
        }
      ],
      "metadata": {
        "id": "5gu5gZkkzmlk"
      }
    },
    {
      "cell_type": "markdown",
      "source": [
        "Now lets get practice on using for loops to reverse a string.\n",
        "\n",
        "Start by looking at the next example that builds up a sequence where each base\n",
        "in the original sequence is repeated twice."
      ],
      "metadata": {
        "id": "YPdc-TMszmll"
      }
    },
    {
      "cell_type": "code",
      "execution_count": 12,
      "source": [
        "# Instruction: run this cell to see how to use a for\n",
        "# loop to iterate through a string building up a resulting\n",
        "sequence = 'ATGC'  # alter this line to try different sequences,\n",
        "double_sequence = ''  # the empty string\n",
        "for base in sequence:\n",
        "    double_sequence = double_sequence + base + base\n",
        "print(double_sequence)"
      ],
      "outputs": [
        {
          "output_type": "stream",
          "name": "stdout",
          "text": [
            "AATTGGCC\n"
          ]
        }
      ],
      "metadata": {
        "id": "oZOey0e8zmll"
      }
    },
    {
      "cell_type": "code",
      "execution_count": 33,
      "source": [
        "# Instruction: adapt the procedure in the previous cell\n",
        "# to reverse a sequence using a for loop.\n",
        "sequence = 'ATGC'  # alter this line to try different sequences\n",
        "reverse_sequence = ''  # the empty string\n",
        "\n",
        "for base in range(len(sequence)):\n",
        "    #base + 1 used as first iteration will give sequence[-0] and we want it to be sequence[-1]\n",
        "    reverse_sequence += sequence[-(base + 1)]\n",
        "\n",
        "\n",
        "\n",
        "print(\"The original sequence is \" + sequence + \". The reversed sequence is \" + reverse_sequence)"
      ],
      "outputs": [
        {
          "output_type": "stream",
          "name": "stdout",
          "text": [
            "The original sequence is ATGC. The reversed sequence is CGTA\n"
          ]
        }
      ],
      "metadata": {
        "id": "vMr2Sfxszmlm"
      }
    },
    {
      "cell_type": "markdown",
      "source": [
        "## *(iii)* Working out the complement of a sequence using a for loop\n",
        "\n",
        "In part *(i)* of this exercise you worked out how to work out the complementary base for a given DNA base.\n",
        "\n",
        "Now reuse the code from part *(i)* to work out the complement of a given DNA sequence using a similar approach to part *(ii)*:"
      ],
      "metadata": {
        "id": "W6svmN28zmlm"
      }
    },
    {
      "cell_type": "code",
      "execution_count": 38,
      "source": [
        "# Instruction: use the if elif elif code to work out complement\n",
        "sequence = 'ATGC'\n",
        "seq_comp = ''  # the empty string\n",
        "\n",
        "for base in sequence:\n",
        "\n",
        "    if base == \"A\":\n",
        "        seq_comp += \"T\"\n",
        "\n",
        "    elif base == \"T\":\n",
        "        seq_comp += \"A\"\n",
        "\n",
        "    elif base == \"G\":\n",
        "        seq_comp += \"C\"\n",
        "\n",
        "    elif base == \"C\":\n",
        "        seq_comp += \"G\"\n",
        "\n",
        "    else:\n",
        "        raise ValueError(\"The sequence doesn't look quite right...\")\n",
        "\n",
        "print('sequence:   ' + sequence)\n",
        "print('complement: ' + seq_comp)"
      ],
      "outputs": [
        {
          "output_type": "error",
          "ename": "ValueError",
          "evalue": "The sequence doesn't look quite right...",
          "traceback": [
            "\u001b[0;31m---------------------------------------------------------------------------\u001b[0m",
            "\u001b[0;31mValueError\u001b[0m                                Traceback (most recent call last)",
            "\u001b[0;32m/var/folders/vd/2jzw7_j57zg36gpgyhfdsq4r0000gn/T/ipykernel_36584/1127773413.py\u001b[0m in \u001b[0;36m<module>\u001b[0;34m\u001b[0m\n\u001b[1;32m     18\u001b[0m \u001b[0;34m\u001b[0m\u001b[0m\n\u001b[1;32m     19\u001b[0m     \u001b[0;32melse\u001b[0m\u001b[0;34m:\u001b[0m\u001b[0;34m\u001b[0m\u001b[0;34m\u001b[0m\u001b[0m\n\u001b[0;32m---> 20\u001b[0;31m         \u001b[0;32mraise\u001b[0m \u001b[0mValueError\u001b[0m\u001b[0;34m(\u001b[0m\u001b[0;34m\"The sequence doesn't look quite right...\"\u001b[0m\u001b[0;34m)\u001b[0m\u001b[0;34m\u001b[0m\u001b[0;34m\u001b[0m\u001b[0m\n\u001b[0m\u001b[1;32m     21\u001b[0m \u001b[0;34m\u001b[0m\u001b[0m\n\u001b[1;32m     22\u001b[0m \u001b[0mprint\u001b[0m\u001b[0;34m(\u001b[0m\u001b[0;34m'sequence:   '\u001b[0m \u001b[0;34m+\u001b[0m \u001b[0msequence\u001b[0m\u001b[0;34m)\u001b[0m\u001b[0;34m\u001b[0m\u001b[0;34m\u001b[0m\u001b[0m\n",
            "\u001b[0;31mValueError\u001b[0m: The sequence doesn't look quite right..."
          ]
        }
      ],
      "metadata": {
        "id": "9jLhCD4Nzmln"
      }
    },
    {
      "cell_type": "markdown",
      "source": [
        "> *Hint: you will have to be careful of the indentation in your code - look at the following example*"
      ],
      "metadata": {
        "id": "gk9kqcRDzmln"
      }
    },
    {
      "cell_type": "code",
      "execution_count": 34,
      "source": [
        "# Instruction: run this hint to show \n",
        "# testing letters from a string in for loop\n",
        "sentence = 'Hello, world.'\n",
        "for letter in sentence:\n",
        "    if letter in 'aeiou':\n",
        "        print(letter + ': vowel')\n",
        "    elif letter.isalpha():\n",
        "        print(letter + ': consonant')\n",
        "    else:\n",
        "        print(letter + ': other')"
      ],
      "outputs": [
        {
          "output_type": "stream",
          "name": "stdout",
          "text": [
            "H: consonant\n",
            "e: vowel\n",
            "l: consonant\n",
            "l: consonant\n",
            "o: vowel\n",
            ",: other\n",
            " : other\n",
            "w: consonant\n",
            "o: vowel\n",
            "r: consonant\n",
            "l: consonant\n",
            "d: consonant\n",
            ".: other\n"
          ]
        }
      ],
      "metadata": {
        "id": "YPXVrA6ezmln"
      }
    },
    {
      "cell_type": "markdown",
      "source": [
        "## *(iv)* Working out the reverse complement of a sequence using a for loop\n",
        "\n",
        "Now combined the code you have written in parts *(ii)* and *(iii)* to work out the reverse complement.\n",
        "\n",
        "If you prefer you can use a single or two separate for loops."
      ],
      "metadata": {
        "id": "kTFtvVcQzmln"
      }
    },
    {
      "cell_type": "code",
      "execution_count": 40,
      "source": [
        "# Instruction: combine code from parts (ii)\n",
        "sequence = 'ATGC'\n",
        "seq_comp = \"\"\n",
        "rev_comp = \"\"\n",
        "for base in sequence:\n",
        "\n",
        "    if base == \"A\":\n",
        "        seq_comp += \"T\"\n",
        "\n",
        "    elif base == \"T\":\n",
        "        seq_comp += \"A\"\n",
        "\n",
        "    elif base == \"G\":\n",
        "        seq_comp += \"C\"\n",
        "\n",
        "    elif base == \"C\":\n",
        "        seq_comp += \"G\"\n",
        "\n",
        "    else:\n",
        "        raise ValueError(\"The sequence doesn't look quite right...\")\n",
        "\n",
        "for base in range(len(seq_comp)):\n",
        "\n",
        "    rev_comp += seq_comp[-(base + 1)]\n",
        "    \n",
        "print('sequence:           ' + sequence)\n",
        "print('reverse complement: ' + rev_comp)"
      ],
      "outputs": [
        {
          "output_type": "stream",
          "name": "stdout",
          "text": [
            "sequence:           ATGC\n",
            "reverse complement: GCAT\n"
          ]
        }
      ],
      "metadata": {
        "id": "ztwkoKXxzmlo"
      }
    },
    {
      "cell_type": "markdown",
      "source": [
        "## *(v)* finding the reverse complement of a number of sequences.\n",
        "\n",
        "Suppose instead of finding the reverse complement of a single sequence we wanted to find the reverse complement for the following list of sequences:\n",
        "\n",
        "* `T`\n",
        "* `AG`\n",
        "* `CT`\n",
        "* `AAAATTTGGC`\n",
        "* `GCCAAATTTT`\n",
        "* `CTGCTATAAAAGGCTG`\n",
        "\n",
        "Once again we can use a for loop to go through the sequences and run your procedure against each one (you will have to be careful with the identation):"
      ],
      "metadata": {
        "id": "XLXhslHozmlo"
      }
    },
    {
      "cell_type": "code",
      "execution_count": 44,
      "source": [
        "# Instruction: use your code from part (iv) to work out\n",
        "# the reverse complement for each of the sequences.\n",
        "test_seqs = ['T', 'AG', 'CT', \n",
        "             'AAAATTTGGC',\n",
        "             'GCCAAATTTT', \n",
        "             'CTGCTATAAAAGGCTG']\n",
        "\n",
        "for sequence in test_seqs:\n",
        "\n",
        "    rev_comp = \"\"\n",
        "    seq_comp = \"\"\n",
        "    \n",
        "    for base in sequence:\n",
        "\n",
        "        if base == \"A\":\n",
        "            seq_comp += \"T\"\n",
        "\n",
        "        elif base == \"T\":\n",
        "            seq_comp += \"A\"\n",
        "\n",
        "        elif base == \"G\":\n",
        "            seq_comp += \"C\"\n",
        "\n",
        "        elif base == \"C\":\n",
        "            seq_comp += \"G\"\n",
        "\n",
        "        else:\n",
        "            raise ValueError(\"The sequence doesn't look quite right...\")\n",
        "\n",
        "    for base in range(len(seq_comp)):\n",
        "\n",
        "        rev_comp += seq_comp[-(base + 1)]\n",
        "\n",
        "    print()\n",
        "    print('sequence:           ' + sequence)\n",
        "    print('reverse complement: ' + rev_comp)"
      ],
      "outputs": [
        {
          "output_type": "stream",
          "name": "stdout",
          "text": [
            "\n",
            "sequence:           T\n",
            "reverse complement: A\n",
            "\n",
            "sequence:           AG\n",
            "reverse complement: CT\n",
            "\n",
            "sequence:           CT\n",
            "reverse complement: AG\n",
            "\n",
            "sequence:           AAAATTTGGC\n",
            "reverse complement: GCCAAATTTT\n",
            "\n",
            "sequence:           GCCAAATTTT\n",
            "reverse complement: AAAATTTGGC\n",
            "\n",
            "sequence:           CTGCTATAAAAGGCTG\n",
            "reverse complement: CAGCCTTTTATAGCAG\n"
          ]
        }
      ],
      "metadata": {
        "id": "OaHZCZeDzmlo"
      }
    },
    {
      "cell_type": "markdown",
      "source": [
        "## *(vi)* testing your reverse complement procedure with a number of sequences.\n",
        "\n",
        "In programming writing code tests is very important. We will be looking at this in more depth later in this module. For now lets test your procedure against a list that of items each of which has a sequence and its reverse complement that has been worked out by hand:"
      ],
      "metadata": {
        "id": "FYZXlXoMzmlo"
      }
    },
    {
      "cell_type": "code",
      "execution_count": 45,
      "source": [
        "# Instruction: run this cell to see the data you need to use in the test.\n",
        "test_seqs_and_rev_comp = [('A', 'T'), \n",
        "                          ('T', 'A'), \n",
        "                          ('G', 'C'), \n",
        "                          ('C', 'G'), \n",
        "                          ('AA', 'TT'), \n",
        "                          ('AT', 'AT'), \n",
        "                          ('AG', 'CT'), \n",
        "                          ('AC', 'GT'), \n",
        "                          ('TTT', 'AAA'), \n",
        "                          ('ATT', 'AAT'), \n",
        "                          ('TAT', 'ATA'), \n",
        "                          ('TTA', 'TAA'), \n",
        "                          ('TTT', 'AAA'), \n",
        "                          ('GTT', 'AAC'), \n",
        "                          ('TGT', 'ACA'), \n",
        "                          ('TTG', 'CAA'), \n",
        "                          ('AAAATTTGGC', 'GCCAAATTTT'), \n",
        "                          ('GCCAAATTTT', 'AAAATTTGGC'), \n",
        "                          ('CTGCTATAAAAGGCTG', 'CAGCCTTTTATAGCAG'), \n",
        "                          ( 200*'A'+ 100*'GT', 100*'AC' + 200*'T')]\n",
        "for test_seq, given_rev_comp in test_seqs_and_rev_comp:\n",
        "    print('test sequence:                  test_seq= ' + test_seq )\n",
        "    print('given reverse complement: given_rev_comp= ' + given_rev_comp)"
      ],
      "outputs": [
        {
          "output_type": "stream",
          "name": "stdout",
          "text": [
            "test sequence:                  test_seq= A\n",
            "given reverse complement: given_rev_comp= T\n",
            "test sequence:                  test_seq= T\n",
            "given reverse complement: given_rev_comp= A\n",
            "test sequence:                  test_seq= G\n",
            "given reverse complement: given_rev_comp= C\n",
            "test sequence:                  test_seq= C\n",
            "given reverse complement: given_rev_comp= G\n",
            "test sequence:                  test_seq= AA\n",
            "given reverse complement: given_rev_comp= TT\n",
            "test sequence:                  test_seq= AT\n",
            "given reverse complement: given_rev_comp= AT\n",
            "test sequence:                  test_seq= AG\n",
            "given reverse complement: given_rev_comp= CT\n",
            "test sequence:                  test_seq= AC\n",
            "given reverse complement: given_rev_comp= GT\n",
            "test sequence:                  test_seq= TTT\n",
            "given reverse complement: given_rev_comp= AAA\n",
            "test sequence:                  test_seq= ATT\n",
            "given reverse complement: given_rev_comp= AAT\n",
            "test sequence:                  test_seq= TAT\n",
            "given reverse complement: given_rev_comp= ATA\n",
            "test sequence:                  test_seq= TTA\n",
            "given reverse complement: given_rev_comp= TAA\n",
            "test sequence:                  test_seq= TTT\n",
            "given reverse complement: given_rev_comp= AAA\n",
            "test sequence:                  test_seq= GTT\n",
            "given reverse complement: given_rev_comp= AAC\n",
            "test sequence:                  test_seq= TGT\n",
            "given reverse complement: given_rev_comp= ACA\n",
            "test sequence:                  test_seq= TTG\n",
            "given reverse complement: given_rev_comp= CAA\n",
            "test sequence:                  test_seq= AAAATTTGGC\n",
            "given reverse complement: given_rev_comp= GCCAAATTTT\n",
            "test sequence:                  test_seq= GCCAAATTTT\n",
            "given reverse complement: given_rev_comp= AAAATTTGGC\n",
            "test sequence:                  test_seq= CTGCTATAAAAGGCTG\n",
            "given reverse complement: given_rev_comp= CAGCCTTTTATAGCAG\n",
            "test sequence:                  test_seq= AAAAAAAAAAAAAAAAAAAAAAAAAAAAAAAAAAAAAAAAAAAAAAAAAAAAAAAAAAAAAAAAAAAAAAAAAAAAAAAAAAAAAAAAAAAAAAAAAAAAAAAAAAAAAAAAAAAAAAAAAAAAAAAAAAAAAAAAAAAAAAAAAAAAAAAAAAAAAAAAAAAAAAAAAAAAAAAAAAAAAAAAAAAAAAAAAAAAAAAAGTGTGTGTGTGTGTGTGTGTGTGTGTGTGTGTGTGTGTGTGTGTGTGTGTGTGTGTGTGTGTGTGTGTGTGTGTGTGTGTGTGTGTGTGTGTGTGTGTGTGTGTGTGTGTGTGTGTGTGTGTGTGTGTGTGTGTGTGTGTGTGTGTGTGTGTGTGTGTGTGTGTGTGTGTGTGTGTGTGTGTGTGTGTGTGTGTGTGTGT\n",
            "given reverse complement: given_rev_comp= ACACACACACACACACACACACACACACACACACACACACACACACACACACACACACACACACACACACACACACACACACACACACACACACACACACACACACACACACACACACACACACACACACACACACACACACACACACACACACACACACACACACACACACACACACACACACACACACACACACACACTTTTTTTTTTTTTTTTTTTTTTTTTTTTTTTTTTTTTTTTTTTTTTTTTTTTTTTTTTTTTTTTTTTTTTTTTTTTTTTTTTTTTTTTTTTTTTTTTTTTTTTTTTTTTTTTTTTTTTTTTTTTTTTTTTTTTTTTTTTTTTTTTTTTTTTTTTTTTTTTTTTTTTTTTTTTTTTTTTTTTTTTTTTTTTTTTTTTTTTT\n"
          ]
        }
      ],
      "metadata": {
        "id": "rEHUlxQpzmlo"
      }
    },
    {
      "cell_type": "markdown",
      "source": [
        "Now you should adapt the code in the next cell to test that your procedure for working out the reverse complement produces the expected result for every case."
      ],
      "metadata": {
        "id": "S1wPMuyUzmlo"
      }
    },
    {
      "cell_type": "code",
      "execution_count": 50,
      "source": [
        "# Instruction: test your code from part (iv) to work out\n",
        "# the reverse complement for each of the sequences.\n",
        "test_seqs_and_rev_comp = [('A', 'T'), \n",
        "                          ('T', 'A'), \n",
        "                          ('G', 'C'), \n",
        "                          ('C', 'G'), \n",
        "                          ('AA', 'TT'), \n",
        "                          ('AT', 'AT'), \n",
        "                          ('AG', 'CT'), \n",
        "                          ('AC', 'GT'), \n",
        "                          ('TTT', 'AAA'), \n",
        "                          ('ATT', 'AAT'), \n",
        "                          ('TAT', 'ATA'), \n",
        "                          ('TTA', 'TAA'), \n",
        "                          ('TTT', 'AAA'), \n",
        "                          ('GTT', 'AAC'), \n",
        "                          ('TGT', 'ACA'), \n",
        "                          ('TTG', 'CAA'), \n",
        "                          ('AAAATTTGGC', 'GCCAAATTTT'), \n",
        "                          ('GCCAAATTTT', 'AAAATTTGGC'), \n",
        "                          ('CTGCTATAAAAGGCTG', 'CAGCCTTTTATAGCAG'), \n",
        "                          ( 200*'A'+ 100*'GT', 100*'AC' + 200*'T')]\n",
        "for test_seq, given_rev_comp in test_seqs_and_rev_comp:\n",
        "\n",
        "    rev_comp = \"\"\n",
        "    seq_comp = \"\"\n",
        "    \n",
        "    for base in test_seq:\n",
        "\n",
        "        if base == \"A\":\n",
        "            seq_comp += \"T\"\n",
        "\n",
        "        elif base == \"T\":\n",
        "            seq_comp += \"A\"\n",
        "\n",
        "        elif base == \"G\":\n",
        "            seq_comp += \"C\"\n",
        "\n",
        "        elif base == \"C\":\n",
        "            seq_comp += \"G\"\n",
        "\n",
        "        else:\n",
        "            raise ValueError(\"The sequence doesn't look quite right...\")\n",
        "\n",
        "    for base in range(len(seq_comp)):\n",
        "\n",
        "        rev_comp += seq_comp[-(base + 1)]\n",
        "    print('test sequence:                  test_seq= ' + test_seq )\n",
        "    print('reverse complement:             rev_comp= ' + rev_comp)\n",
        "    print('given reverse complement: given_rev_comp= ' + given_rev_comp)\n",
        "    # test that your procedure given test_seq produces a\n",
        "    # reverse complement that is the same as given_rev_comp\n",
        "    \n",
        "    "
      ],
      "outputs": [
        {
          "output_type": "stream",
          "name": "stdout",
          "text": [
            "test sequence:                  test_seq= A\n",
            "reverse complement:             rev_comp= T\n",
            "given reverse complement: given_rev_comp= T\n",
            "test sequence:                  test_seq= T\n",
            "reverse complement:             rev_comp= A\n",
            "given reverse complement: given_rev_comp= A\n",
            "test sequence:                  test_seq= G\n",
            "reverse complement:             rev_comp= C\n",
            "given reverse complement: given_rev_comp= C\n",
            "test sequence:                  test_seq= C\n",
            "reverse complement:             rev_comp= G\n",
            "given reverse complement: given_rev_comp= G\n",
            "test sequence:                  test_seq= AA\n",
            "reverse complement:             rev_comp= TT\n",
            "given reverse complement: given_rev_comp= TT\n",
            "test sequence:                  test_seq= AT\n",
            "reverse complement:             rev_comp= AT\n",
            "given reverse complement: given_rev_comp= AT\n",
            "test sequence:                  test_seq= AG\n",
            "reverse complement:             rev_comp= CT\n",
            "given reverse complement: given_rev_comp= CT\n",
            "test sequence:                  test_seq= AC\n",
            "reverse complement:             rev_comp= GT\n",
            "given reverse complement: given_rev_comp= GT\n",
            "test sequence:                  test_seq= TTT\n",
            "reverse complement:             rev_comp= AAA\n",
            "given reverse complement: given_rev_comp= AAA\n",
            "test sequence:                  test_seq= ATT\n",
            "reverse complement:             rev_comp= AAT\n",
            "given reverse complement: given_rev_comp= AAT\n",
            "test sequence:                  test_seq= TAT\n",
            "reverse complement:             rev_comp= ATA\n",
            "given reverse complement: given_rev_comp= ATA\n",
            "test sequence:                  test_seq= TTA\n",
            "reverse complement:             rev_comp= TAA\n",
            "given reverse complement: given_rev_comp= TAA\n",
            "test sequence:                  test_seq= TTT\n",
            "reverse complement:             rev_comp= AAA\n",
            "given reverse complement: given_rev_comp= AAA\n",
            "test sequence:                  test_seq= GTT\n",
            "reverse complement:             rev_comp= AAC\n",
            "given reverse complement: given_rev_comp= AAC\n",
            "test sequence:                  test_seq= TGT\n",
            "reverse complement:             rev_comp= ACA\n",
            "given reverse complement: given_rev_comp= ACA\n",
            "test sequence:                  test_seq= TTG\n",
            "reverse complement:             rev_comp= CAA\n",
            "given reverse complement: given_rev_comp= CAA\n",
            "test sequence:                  test_seq= AAAATTTGGC\n",
            "reverse complement:             rev_comp= GCCAAATTTT\n",
            "given reverse complement: given_rev_comp= GCCAAATTTT\n",
            "test sequence:                  test_seq= GCCAAATTTT\n",
            "reverse complement:             rev_comp= AAAATTTGGC\n",
            "given reverse complement: given_rev_comp= AAAATTTGGC\n",
            "test sequence:                  test_seq= CTGCTATAAAAGGCTG\n",
            "reverse complement:             rev_comp= CAGCCTTTTATAGCAG\n",
            "given reverse complement: given_rev_comp= CAGCCTTTTATAGCAG\n",
            "test sequence:                  test_seq= AAAAAAAAAAAAAAAAAAAAAAAAAAAAAAAAAAAAAAAAAAAAAAAAAAAAAAAAAAAAAAAAAAAAAAAAAAAAAAAAAAAAAAAAAAAAAAAAAAAAAAAAAAAAAAAAAAAAAAAAAAAAAAAAAAAAAAAAAAAAAAAAAAAAAAAAAAAAAAAAAAAAAAAAAAAAAAAAAAAAAAAAAAAAAAAAAAAAAAAAGTGTGTGTGTGTGTGTGTGTGTGTGTGTGTGTGTGTGTGTGTGTGTGTGTGTGTGTGTGTGTGTGTGTGTGTGTGTGTGTGTGTGTGTGTGTGTGTGTGTGTGTGTGTGTGTGTGTGTGTGTGTGTGTGTGTGTGTGTGTGTGTGTGTGTGTGTGTGTGTGTGTGTGTGTGTGTGTGTGTGTGTGTGTGTGTGTGTGTGT\n",
            "reverse complement:             rev_comp= ACACACACACACACACACACACACACACACACACACACACACACACACACACACACACACACACACACACACACACACACACACACACACACACACACACACACACACACACACACACACACACACACACACACACACACACACACACACACACACACACACACACACACACACACACACACACACACACACACACACACTTTTTTTTTTTTTTTTTTTTTTTTTTTTTTTTTTTTTTTTTTTTTTTTTTTTTTTTTTTTTTTTTTTTTTTTTTTTTTTTTTTTTTTTTTTTTTTTTTTTTTTTTTTTTTTTTTTTTTTTTTTTTTTTTTTTTTTTTTTTTTTTTTTTTTTTTTTTTTTTTTTTTTTTTTTTTTTTTTTTTTTTTTTTTTTTTTTTTTTT\n",
            "given reverse complement: given_rev_comp= ACACACACACACACACACACACACACACACACACACACACACACACACACACACACACACACACACACACACACACACACACACACACACACACACACACACACACACACACACACACACACACACACACACACACACACACACACACACACACACACACACACACACACACACACACACACACACACACACACACACACTTTTTTTTTTTTTTTTTTTTTTTTTTTTTTTTTTTTTTTTTTTTTTTTTTTTTTTTTTTTTTTTTTTTTTTTTTTTTTTTTTTTTTTTTTTTTTTTTTTTTTTTTTTTTTTTTTTTTTTTTTTTTTTTTTTTTTTTTTTTTTTTTTTTTTTTTTTTTTTTTTTTTTTTTTTTTTTTTTTTTTTTTTTTTTTTTTTTTTTT\n"
          ]
        }
      ],
      "metadata": {
        "id": "TH2cGG8gzmlp"
      }
    },
    {
      "cell_type": "markdown",
      "source": [
        "## Optional: closer look at the test data structure and how we go through it.\n",
        "\n",
        "> Have a go at this if you have time.\n",
        "\n",
        "In part *(vi)* you were given test data in the form:\n",
        "```\n",
        "test_seqs_and_rev_comp = [('A', 'T'), \n",
        "                          ('AG', 'CT'), \n",
        "                          ('TAT', 'ATA')]\n",
        "```\n",
        "You are familiar with the square brackets defining a Python list with each of\n",
        "the list being a pair of items: a test sequence and its complement.\n",
        "\n",
        "But you will notice the pair of items are not surrounded by normal brackets `()` rather than \n",
        "the square brackets `[]` used for lists. This defines them as a *tuple* rather than a *list*.\n",
        "\n",
        "A tuple list like a list but it is *immutable* meaning that once defined it cannot be altered - new items cannot be added, deleted or replaced:"
      ],
      "metadata": {
        "id": "2w9eA39ezmlp"
      }
    },
    {
      "cell_type": "code",
      "execution_count": 51,
      "source": [
        "# Instruction: run this cell to how tuples work\n",
        "my_list = ['a', 'b', 'c', 'd']\n",
        "my_tuple = ('a', 'b', 'c', 'd')\n",
        "print('accessing list and tuple is similar: ')\n",
        "print('my_list= ', my_list)\n",
        "print('my_tuple=', my_tuple)\n",
        "print('Notice above that when you print a list it has square brackets []')\n",
        "print('Notice above that when you print a tuple it has round brackets ()')\n",
        "print('you can access individual items:'\n",
        "      ' my_list[0] =', my_list[0], \n",
        "      ' my_tuple[-1] =', my_tuple[-1])\n",
        "print('you can use the len function on both:'\n",
        "      ' len(my_list) =', len(my_list), \n",
        "      ' len(my_tuple) =', len(my_tuple))\n",
        "print('But you can alter lists:')\n",
        "my_list.append('e') \n",
        "print('after appending a list item: my_list= ', my_list)\n",
        "my_list[-1] = 'replacement'\n",
        "print('after replacing a list item: my_list= ', my_list)\n",
        "del my_list[0:4]\n",
        "print('after deleting list items:   my_list= ', my_list)"
      ],
      "outputs": [
        {
          "output_type": "stream",
          "name": "stdout",
          "text": [
            "accessing list and tuple is similar: \n",
            "my_list=  ['a', 'b', 'c', 'd']\n",
            "my_tuple= ('a', 'b', 'c', 'd')\n",
            "Notice above that when you print a list it has square brackets []\n",
            "Notice above that when you print a tuple it has round brackets ()\n",
            "you can access individual items: my_list[0] = a  my_tuple[-1] = d\n",
            "you can use the len function on both: len(my_list) = 4  len(my_tuple) = 4\n",
            "But you can alter lists:\n",
            "after appending a list item: my_list=  ['a', 'b', 'c', 'd', 'e']\n",
            "after replacing a list item: my_list=  ['a', 'b', 'c', 'd', 'replacement']\n",
            "after deleting list items:   my_list=  ['replacement']\n"
          ]
        }
      ],
      "metadata": {
        "id": "Vt4YI_Oozmlp"
      }
    },
    {
      "cell_type": "markdown",
      "source": [
        "But with a tuple you cannot append items, or replace items, or delete items. \n",
        "Run the next three cells and you will see that if you try to do this then\n",
        "you get helpful exception messages."
      ],
      "metadata": {
        "id": "_Ftim4Rwzmlp"
      }
    },
    {
      "cell_type": "code",
      "execution_count": 52,
      "source": [
        "# this cell will fail as you cannot append items to a tuple\n",
        "my_tuple.append('NOT ALLOWED') # will fail!"
      ],
      "outputs": [
        {
          "output_type": "error",
          "ename": "AttributeError",
          "evalue": "'tuple' object has no attribute 'append'",
          "traceback": [
            "\u001b[0;31m---------------------------------------------------------------------------\u001b[0m",
            "\u001b[0;31mAttributeError\u001b[0m                            Traceback (most recent call last)",
            "\u001b[0;32m/var/folders/vd/2jzw7_j57zg36gpgyhfdsq4r0000gn/T/ipykernel_36584/2140979861.py\u001b[0m in \u001b[0;36m<module>\u001b[0;34m\u001b[0m\n\u001b[1;32m      1\u001b[0m \u001b[0;31m# this cell will fail as you cannot append items to a tuple\u001b[0m\u001b[0;34m\u001b[0m\u001b[0;34m\u001b[0m\u001b[0;34m\u001b[0m\u001b[0m\n\u001b[0;32m----> 2\u001b[0;31m \u001b[0mmy_tuple\u001b[0m\u001b[0;34m.\u001b[0m\u001b[0mappend\u001b[0m\u001b[0;34m(\u001b[0m\u001b[0;34m'NOT ALLOWED'\u001b[0m\u001b[0;34m)\u001b[0m \u001b[0;31m# will fail!\u001b[0m\u001b[0;34m\u001b[0m\u001b[0;34m\u001b[0m\u001b[0m\n\u001b[0m",
            "\u001b[0;31mAttributeError\u001b[0m: 'tuple' object has no attribute 'append'"
          ]
        }
      ],
      "metadata": {
        "id": "QRtta9v-zmlq"
      }
    },
    {
      "cell_type": "code",
      "execution_count": 53,
      "source": [
        "# this cell will fail as you cannot replace items in a tuple\n",
        "my_tuple[-1] = 'NOT ALLOWED' # will fail!"
      ],
      "outputs": [
        {
          "output_type": "error",
          "ename": "TypeError",
          "evalue": "'tuple' object does not support item assignment",
          "traceback": [
            "\u001b[0;31m---------------------------------------------------------------------------\u001b[0m",
            "\u001b[0;31mTypeError\u001b[0m                                 Traceback (most recent call last)",
            "\u001b[0;32m/var/folders/vd/2jzw7_j57zg36gpgyhfdsq4r0000gn/T/ipykernel_36584/1339630952.py\u001b[0m in \u001b[0;36m<module>\u001b[0;34m\u001b[0m\n\u001b[1;32m      1\u001b[0m \u001b[0;31m# this cell will fail as you cannot replace items in a tuple\u001b[0m\u001b[0;34m\u001b[0m\u001b[0;34m\u001b[0m\u001b[0;34m\u001b[0m\u001b[0m\n\u001b[0;32m----> 2\u001b[0;31m \u001b[0mmy_tuple\u001b[0m\u001b[0;34m[\u001b[0m\u001b[0;34m-\u001b[0m\u001b[0;36m1\u001b[0m\u001b[0;34m]\u001b[0m \u001b[0;34m=\u001b[0m \u001b[0;34m'NOT ALLOWED'\u001b[0m \u001b[0;31m# will fail!\u001b[0m\u001b[0;34m\u001b[0m\u001b[0;34m\u001b[0m\u001b[0m\n\u001b[0m",
            "\u001b[0;31mTypeError\u001b[0m: 'tuple' object does not support item assignment"
          ]
        }
      ],
      "metadata": {
        "id": "CbRlMw7Yzmlq"
      }
    },
    {
      "cell_type": "code",
      "execution_count": 54,
      "source": [
        "# this cell will fail as you cannot append items to a tuple\n",
        "del my_tuple[0] # will fail!"
      ],
      "outputs": [
        {
          "output_type": "error",
          "ename": "TypeError",
          "evalue": "'tuple' object doesn't support item deletion",
          "traceback": [
            "\u001b[0;31m---------------------------------------------------------------------------\u001b[0m",
            "\u001b[0;31mTypeError\u001b[0m                                 Traceback (most recent call last)",
            "\u001b[0;32m/var/folders/vd/2jzw7_j57zg36gpgyhfdsq4r0000gn/T/ipykernel_36584/482950752.py\u001b[0m in \u001b[0;36m<module>\u001b[0;34m\u001b[0m\n\u001b[1;32m      1\u001b[0m \u001b[0;31m# this cell will fail as you cannot append items to a tuple\u001b[0m\u001b[0;34m\u001b[0m\u001b[0;34m\u001b[0m\u001b[0;34m\u001b[0m\u001b[0m\n\u001b[0;32m----> 2\u001b[0;31m \u001b[0;32mdel\u001b[0m \u001b[0mmy_tuple\u001b[0m\u001b[0;34m[\u001b[0m\u001b[0;36m0\u001b[0m\u001b[0;34m]\u001b[0m \u001b[0;31m# will fail!\u001b[0m\u001b[0;34m\u001b[0m\u001b[0;34m\u001b[0m\u001b[0m\n\u001b[0m",
            "\u001b[0;31mTypeError\u001b[0m: 'tuple' object doesn't support item deletion"
          ]
        }
      ],
      "metadata": {
        "id": "4db0anPDzmlq"
      }
    },
    {
      "cell_type": "markdown",
      "source": [
        "So tuples are useful when you do not want to have a collection of things \n",
        "that should not be altered. For instance \n",
        "if you wanted to record a walking tour through Cambridge using a GPS it would\n",
        "make sense to store the latitude and longitude of each point on the route as\n",
        "a tuple. The points could then be stored as a list.\n",
        "\n",
        "For the tests we have decided to store a list of tuples:\n",
        "```\n",
        "test_data = [ (input_data, expected_output),\n",
        "              (input_data, expected_output),\n",
        "              (input_data, expected_output)\n",
        "            ]\n",
        "```\n",
        "each one of the tuples has an input and the expected output for this input.\n",
        "\n",
        "Lets suppose we had a new procedure to test that doubled an integer number and added 3 to it.\n",
        "Some test data for this could be:\n",
        "\n",
        "| input_data *n* | expected_output *2n+3* |\n",
        "| :-------: | :-------------: |\n",
        "| 0 | 3 |\n",
        "| 1 | 5 |\n",
        "| -1 | 0 |\n",
        "| 10 | 23 |\n",
        "| -1.5 | 0 |\n",
        "\n",
        "Create a `test_data` list containing tuples with the input and expected output for the *2n+3* procedure"
      ],
      "metadata": {
        "id": "2mq6jdPBzmlq"
      }
    },
    {
      "cell_type": "code",
      "execution_count": 59,
      "source": [
        "# Instruction: create test_data list\n",
        "# your code here\n",
        "test_data = [(0, 3), \n",
        "            (1, 5), \n",
        "            (-1, 0), \n",
        "            (10, 23), \n",
        "            (-1.5, 0)]"
      ],
      "outputs": [],
      "metadata": {
        "id": "UBlRZLz3zmlq"
      }
    },
    {
      "cell_type": "markdown",
      "source": [
        "To iterate through the `test_data`list we can take the same approach as for any list. \n",
        "Lets demonstrate with some other data:"
      ],
      "metadata": {
        "id": "b9VB3k6kzmlq"
      }
    },
    {
      "cell_type": "code",
      "execution_count": 56,
      "source": [
        "# Instruction: demonstrate for loop going through a list of tuples for test_data\n",
        "my_test_data = [('a', 'A'),\n",
        "                ('cat', 'Cat'),\n",
        "                ('the rain.', 'The rain.' ),\n",
        "                ('DOG', 'DOG')]  # test data for a capitalize procedure\n",
        "for item in my_test_data:\n",
        "    print('item: ', item)"
      ],
      "outputs": [
        {
          "output_type": "stream",
          "name": "stdout",
          "text": [
            "item:  ('a', 'A')\n",
            "item:  ('cat', 'Cat')\n",
            "item:  ('the rain.', 'The rain.')\n",
            "item:  ('DOG', 'DOG')\n"
          ]
        }
      ],
      "metadata": {
        "id": "6miQNh9kzmlr"
      }
    },
    {
      "cell_type": "markdown",
      "source": [
        "Notice that each `item` is a tuple. We could unpack this:"
      ],
      "metadata": {
        "id": "t0XcCauuzmlr"
      }
    },
    {
      "cell_type": "code",
      "execution_count": 57,
      "source": [
        "# Instruction: run the cell to demonstrate unpacking the test_data\n",
        "my_test_data = [('a', 'A'),\n",
        "                ('cat', 'Cat'),\n",
        "                ('the rain.', 'The rain.' ),\n",
        "                ('DOG', 'DOG')]  # test data for a capitalize procedure\n",
        "for item in my_test_data:\n",
        "    input_data = item[0]\n",
        "    expected_output = item[1]\n",
        "    print('input_data:', input_data, 'expected_output:', expected_output)"
      ],
      "outputs": [
        {
          "output_type": "stream",
          "name": "stdout",
          "text": [
            "input_data: a expected_output: A\n",
            "input_data: cat expected_output: Cat\n",
            "input_data: the rain. expected_output: The rain.\n",
            "input_data: DOG expected_output: DOG\n"
          ]
        }
      ],
      "metadata": {
        "id": "TF1fhg-Ozmlr"
      }
    },
    {
      "cell_type": "markdown",
      "source": [
        "But this can be simplified by avoiding creating an item variable:"
      ],
      "metadata": {
        "id": "mEz6bJTBzmlr"
      }
    },
    {
      "cell_type": "code",
      "execution_count": 58,
      "source": [
        "# Instruction: run the cell to demonstrate simplification\n",
        "my_test_data = [('a', 'A'),\n",
        "                ('cat', 'Cat'),\n",
        "                ('the rain.', 'The rain.' ),\n",
        "                ('DOG', 'DOG')]  # test data for a capitalize procedure\n",
        "for input_data, expected_output in my_test_data:\n",
        "    print('input_data:', input_data, 'expected_output:', expected_output)"
      ],
      "outputs": [
        {
          "output_type": "stream",
          "name": "stdout",
          "text": [
            "input_data: a expected_output: A\n",
            "input_data: cat expected_output: Cat\n",
            "input_data: the rain. expected_output: The rain.\n",
            "input_data: DOG expected_output: DOG\n"
          ]
        }
      ],
      "metadata": {
        "id": "JfIwP6njzmlr"
      }
    },
    {
      "cell_type": "markdown",
      "source": [
        "This syntax `for` loop has been provided for you in part *(vi)* above.\n",
        "\n",
        "Now its your turn:\n",
        "\n",
        "Lets suppose we had a new procedure to test that doubled an integer number and added 3 to it.\n",
        "Some test data for this could be:\n",
        "\n",
        "| input_data *n* | expected_output *2n+3* |\n",
        "| :-------: | :-------------: |\n",
        "| 0 | 3 |\n",
        "| 1 | 5 |\n",
        "| -1 | 0 |\n",
        "| 10 | 23 |\n",
        "| -1.5 | 0 |\n",
        "\n",
        "create a test_data list of tuples and a for loop to go through and print the input_data and expected_data"
      ],
      "metadata": {
        "id": "bekl0UEvzmlr"
      }
    },
    {
      "cell_type": "code",
      "execution_count": 60,
      "source": [
        "# Instruction: create a test_data list of tuples and \n",
        "# a for loop to go through and print the input_data and expected_data\n",
        "for input_data, expected_data in test_data:\n",
        "    print(\"Input data: \" + str(input_data))\n",
        "    print(\"Expected data: \" + str(expected_data))"
      ],
      "outputs": [
        {
          "output_type": "stream",
          "name": "stdout",
          "text": [
            "Input data: 0\n",
            "Expected data: 3\n",
            "Input data: 1\n",
            "Expected data: 5\n",
            "Input data: -1\n",
            "Expected data: 0\n",
            "Input data: 10\n",
            "Expected data: 23\n",
            "Input data: -1.5\n",
            "Expected data: 0\n"
          ]
        }
      ],
      "metadata": {
        "id": "3JWJ_NWCzmls"
      }
    },
    {
      "cell_type": "markdown",
      "source": [
        "## Optional: Defining a reverse_complement function\n",
        "\n",
        "> Have a go at this **if you have time.**\n",
        "\n",
        "Although the approach used here is OK the final script mixes together the testing procedure,\n",
        "the code for the reverse complement and printing out the results. \n",
        "\n",
        "Suppose a colleague want to use you reverse complement procedure for their own sequence.\n",
        "It would require big adaptations to use the code we have so far - chopping out code.\n",
        "\n",
        "Instead it would be a much better idea if we could separate out the reverse complement procedure into a **function**.\n",
        "\n",
        "So far you have used a number of functions that are provided by Python. For instance:\n",
        "* to find out the length of a string you have used the `len()` function,\n",
        "* and to convert an integer floating number to a string you have have used `str()` function:"
      ],
      "metadata": {
        "id": "LaP1799Xzmls"
      }
    },
    {
      "cell_type": "code",
      "execution_count": 61,
      "source": [
        "# Instruction: run this cell to see len and str function\n",
        "sequence = 'TAG'  \n",
        "seq_length = len(sequence)\n",
        "print('length of \"' + sequence + '\" is ' + str(seq_length) + ' characters')"
      ],
      "outputs": [
        {
          "output_type": "stream",
          "name": "stdout",
          "text": [
            "length of \"TAG\" is 3 characters\n"
          ]
        }
      ],
      "metadata": {
        "id": "SqhajxVGzmls"
      }
    },
    {
      "cell_type": "markdown",
      "source": [
        "Using functions like this is convenient. Suppose we want to work out the reverse complement of a number of sequences. Wouldn't it be a great idea if we could simply call a function just like `len()` and this would supply the reverse complement. This function would:\n",
        "\n",
        "* given a string that is a DNA sequence - composed of A, T, G and C characters\n",
        "* find the reverse complement of the sequence. \n",
        "\n",
        "We could use the function in the same way as `len()`\n",
        "```\n",
        "sequence = 'TAG'\n",
        "rev_comp = reverse_complement(sequence)\n",
        "print(rev_comp)\n",
        "```\n",
        "In this example the print would produce `ATC` (for the input sequence `TAG`).\n",
        "\n",
        "This would have a number of advantages:\n",
        "\n",
        "* This would enable us to reuse the same code a number of times without having to copy and paste it time and time again.\n",
        "* Additionally if we decided to alter the procedure, for instance to allow the function to work with RNA sequences as well as DNA, we could change it in one place.\n",
        "* The function could be used by other people.\n",
        "\n",
        "We will see how you write a function in the next exercise. \n",
        "For now use this `reverse_complement(sequence)` function:"
      ],
      "metadata": {
        "id": "0_AOoQn0zmls"
      }
    },
    {
      "cell_type": "code",
      "execution_count": 62,
      "source": [
        "# DEFINE reverse_complement function\n",
        "# Instruction: run this cell so that the kernel\n",
        "# registers the reverse_complement function\n",
        "def reverse_complement(sequence):\n",
        "    \"\"\"\n",
        "    For an input DNA sequence returns the reverse complement\n",
        "    The input DNA sequence must be a string made up solely of \n",
        "    A, T, G and C characters.\n",
        "    \n",
        "    Note: no error checking is done so results for strings with lower case letters\n",
        "    \"\"\"\n",
        "    complement = sequence\n",
        "    complement = complement.replace('A','t')\n",
        "    complement = complement.replace('T','a')\n",
        "    complement = complement.replace('G','c')\n",
        "    complement = complement.replace('C','g')\n",
        "    complement = complement.upper()\n",
        "    reverse_complement = complement[::-1]\n",
        "    return reverse_complement"
      ],
      "outputs": [],
      "metadata": {
        "id": "l0Bw2vMPzmls"
      }
    },
    {
      "cell_type": "markdown",
      "source": [
        "Once you have run the cell above the function can be used:"
      ],
      "metadata": {
        "id": "4g_5qdYmzmls"
      }
    },
    {
      "cell_type": "code",
      "execution_count": 63,
      "source": [
        "# Instruction: run this cell to see how reverse_complement function can be used.\n",
        "# N.B. make sure you have run the cell above that starts  \n",
        "# with \"# DEFINE reverse_complement function\" before running this cell\n",
        "print('The reverse complement of A is' , reverse_complement('A'))\n",
        "print('The reverse complement of TAG is' , reverse_complement('TAG'))"
      ],
      "outputs": [
        {
          "output_type": "stream",
          "name": "stdout",
          "text": [
            "The reverse complement of A is T\n",
            "The reverse complement of TAG is CTA\n"
          ]
        }
      ],
      "metadata": {
        "id": "Cy1OPherzmls"
      }
    },
    {
      "cell_type": "markdown",
      "source": [
        "Can you adapt the test code below to test the `reverse_complement` function?"
      ],
      "metadata": {
        "id": "SacnrUWMzmls"
      }
    },
    {
      "cell_type": "code",
      "execution_count": 65,
      "source": [
        "# Instruction: test the reverse_complement function\n",
        "test_seqs_and_rev_comp = [('A', 'T'), \n",
        "                          ('T', 'A'), \n",
        "                          ('G', 'C'), \n",
        "                          ('C', 'G'), \n",
        "                          ('AA', 'TT'), \n",
        "                          ('AT', 'AT'), \n",
        "                          ('AG', 'CT'), \n",
        "                          ('AC', 'GT'), \n",
        "                          ('TTT', 'AAA'), \n",
        "                          ('ATT', 'AAT'), \n",
        "                          ('TAT', 'ATA'), \n",
        "                          ('TTA', 'TAA'), \n",
        "                          ('TTT', 'AAA'), \n",
        "                          ('GTT', 'AAC'), \n",
        "                          ('TGT', 'ACA'), \n",
        "                          ('TTG', 'CAA'), \n",
        "                          ('AAAATTTGGC', 'GCCAAATTTT'), \n",
        "                          ('GCCAAATTTT', 'AAAATTTGGC'), \n",
        "                          ('CTGCTATAAAAGGCTG', 'CAGCCTTTTATAGCAG'), \n",
        "                          ( 200*'A'+ 100*'GT', 100*'AC' + 200*'T')]\n",
        "for test_seq, given_rev_comp in test_seqs_and_rev_comp:\n",
        "    print(reverse_complement(test_seq))\n",
        "    print(given_rev_comp)\n",
        "    # test the reverse_complement(test_seq) produces a\n",
        "    # reverse complement that is the same as given_rev_comp    "
      ],
      "outputs": [
        {
          "output_type": "stream",
          "name": "stdout",
          "text": [
            "T\n",
            "T\n",
            "A\n",
            "A\n",
            "C\n",
            "C\n",
            "G\n",
            "G\n",
            "TT\n",
            "TT\n",
            "AT\n",
            "AT\n",
            "CT\n",
            "CT\n",
            "GT\n",
            "GT\n",
            "AAA\n",
            "AAA\n",
            "AAT\n",
            "AAT\n",
            "ATA\n",
            "ATA\n",
            "TAA\n",
            "TAA\n",
            "AAA\n",
            "AAA\n",
            "AAC\n",
            "AAC\n",
            "ACA\n",
            "ACA\n",
            "CAA\n",
            "CAA\n",
            "GCCAAATTTT\n",
            "GCCAAATTTT\n",
            "AAAATTTGGC\n",
            "AAAATTTGGC\n",
            "CAGCCTTTTATAGCAG\n",
            "CAGCCTTTTATAGCAG\n",
            "ACACACACACACACACACACACACACACACACACACACACACACACACACACACACACACACACACACACACACACACACACACACACACACACACACACACACACACACACACACACACACACACACACACACACACACACACACACACACACACACACACACACACACACACACACACACACACACACACACACACACTTTTTTTTTTTTTTTTTTTTTTTTTTTTTTTTTTTTTTTTTTTTTTTTTTTTTTTTTTTTTTTTTTTTTTTTTTTTTTTTTTTTTTTTTTTTTTTTTTTTTTTTTTTTTTTTTTTTTTTTTTTTTTTTTTTTTTTTTTTTTTTTTTTTTTTTTTTTTTTTTTTTTTTTTTTTTTTTTTTTTTTTTTTTTTTTTTTTTTTT\n",
            "ACACACACACACACACACACACACACACACACACACACACACACACACACACACACACACACACACACACACACACACACACACACACACACACACACACACACACACACACACACACACACACACACACACACACACACACACACACACACACACACACACACACACACACACACACACACACACACACACACACACACTTTTTTTTTTTTTTTTTTTTTTTTTTTTTTTTTTTTTTTTTTTTTTTTTTTTTTTTTTTTTTTTTTTTTTTTTTTTTTTTTTTTTTTTTTTTTTTTTTTTTTTTTTTTTTTTTTTTTTTTTTTTTTTTTTTTTTTTTTTTTTTTTTTTTTTTTTTTTTTTTTTTTTTTTTTTTTTTTTTTTTTTTTTTTTTTTTTTTTTT\n"
          ]
        }
      ],
      "metadata": {
        "id": "a__Vpx3qzmlt"
      }
    },
    {
      "cell_type": "markdown",
      "source": [
        "Can you define a function for your reverse_complement procedure call it `my_reverse_complement`? \n",
        "\n",
        "> *As you have not yet seen how to write functions (this will happen next week) this is asking alot*\n",
        "> *Do not worry if you cannot do this*"
      ],
      "metadata": {
        "id": "N3ccUrVIzmlt"
      }
    },
    {
      "cell_type": "code",
      "execution_count": 80,
      "source": [
        "# instructions your my_reverse_complement function in this cell?\n",
        "def my_reverse_complement(seq):\n",
        "\n",
        "    rev_comp = \"\"\n",
        "    seq_comp = \"\"\n",
        "    \n",
        "    for base in seq:\n",
        "\n",
        "        if base == \"A\":\n",
        "            seq_comp += \"T\"\n",
        "\n",
        "        elif base == \"T\":\n",
        "            seq_comp += \"A\"\n",
        "\n",
        "        elif base == \"G\":\n",
        "            seq_comp += \"C\"\n",
        "\n",
        "        elif base == \"C\":\n",
        "            seq_comp += \"G\"\n",
        "\n",
        "        else:\n",
        "            raise ValueError(\"The sequence doesn't look quite right...\")\n",
        "\n",
        "    for base in range(len(seq_comp)):\n",
        "\n",
        "        rev_comp += seq_comp[-(base + 1)]\n",
        "    return(rev_comp)\n",
        "\n",
        "\n",
        "    "
      ],
      "outputs": [],
      "metadata": {
        "id": "777-dcLLzmlt"
      }
    },
    {
      "cell_type": "code",
      "execution_count": 81,
      "source": [
        "# test your my_reverse_complement function (a single case is fine.)\n",
        "sequence_string = \"ATTACGGC\"\n",
        "print(\"The reverse complement of \" + sequence_string + \" is \" + my_reverse_complement(sequence_string))"
      ],
      "outputs": [
        {
          "output_type": "stream",
          "name": "stdout",
          "text": [
            "The reverse complement of ATTACGGC is GCCGTAAT\n"
          ]
        }
      ],
      "metadata": {
        "id": "0KaNlPgVzmlt"
      }
    },
    {
      "cell_type": "markdown",
      "source": [
        "> ### Reminder: saving your work\n",
        ">\n",
        "> As you work through the work book it is important to regularly save your work. Notice that as you have made  changes the Jupyter window top line will warn you there are `(unsaved changes)` in small text. To save your work in this notebook by either select menu item `File` `Save` or by hit the save button:\n",
        "> \n",
        "> ![Jupyter Notebook Save Button|](https://aru-bioinf-ibds.github.io./images/save_button.png)\n",
        ">\n",
        "> \n",
        "> ### Reminder: getting help \n",
        "> Please see the page:\n",
        "> [Help with programming](https://canvas.anglia.ac.uk/courses/12178/pages/help-with-programming)\n",
        "> on ARU Canvas."
      ],
      "metadata": {
        "collapsed": true,
        "id": "4Uhdle_Uzmlt"
      }
    },
    {
      "cell_type": "markdown",
      "source": [
        "## Once you have completed this homework, \n",
        "Please see ARU Canvas page\n",
        "[Reflection on Practical D: Conditional tests and loops](https://canvas.anglia.ac.uk/courses/12178/discussion_topics/108481)\n",
        "for the follow up."
      ],
      "metadata": {
        "id": "O53hTRKGzmlt"
      }
    },
    {
      "cell_type": "code",
      "execution_count": null,
      "source": [],
      "outputs": [],
      "metadata": {
        "id": "iM-DVOBJzmlt"
      }
    }
  ]
}